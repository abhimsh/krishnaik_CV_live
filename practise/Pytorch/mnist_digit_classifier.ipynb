{
 "cells": [
  {
   "cell_type": "code",
   "execution_count": 1,
   "metadata": {},
   "outputs": [],
   "source": [
    "import torch.nn as nn\n",
    "import torch\n",
    "\n",
    "from torch.utils.data import Dataset, DataLoader\n",
    "from torchvision import datasets, transforms\n"
   ]
  },
  {
   "cell_type": "code",
   "execution_count": 2,
   "metadata": {},
   "outputs": [],
   "source": [
    "img_transformation = transforms.Compose([\n",
    "    transforms.ToTensor(),\n",
    "    transforms.Normalize(mean=(0.5,), std=(0.5,))\n",
    "])"
   ]
  },
  {
   "cell_type": "code",
   "execution_count": 3,
   "metadata": {},
   "outputs": [],
   "source": [
    "# train_dataset = datasets.MNIST(root=\"./data\", transform=img_transformation, train=True, download=True)\n",
    "# test_dataset = datasets.MNIST(root=\"./data\", transform=img_transformation, train=False, download=True)"
   ]
  },
  {
   "cell_type": "code",
   "execution_count": 4,
   "metadata": {},
   "outputs": [],
   "source": [
    "train_dataset = datasets.MNIST(root=\"./data\", transform=img_transformation, train=True, download=True)\n",
    "test_dataset = datasets.MNIST(root=\"./data\", transform=img_transformation, train=False, download=True)"
   ]
  },
  {
   "cell_type": "code",
   "execution_count": 5,
   "metadata": {},
   "outputs": [
    {
     "data": {
      "text/plain": [
       "torch.Size([1, 28, 28])"
      ]
     },
     "execution_count": 5,
     "metadata": {},
     "output_type": "execute_result"
    }
   ],
   "source": [
    "train_dataset[0][0].shape"
   ]
  },
  {
   "cell_type": "code",
   "execution_count": 6,
   "metadata": {},
   "outputs": [
    {
     "data": {
      "text/plain": [
       "torch.Size([28, 28])"
      ]
     },
     "execution_count": 6,
     "metadata": {},
     "output_type": "execute_result"
    }
   ],
   "source": [
    "train_dataset[0][0].squeeze().shape"
   ]
  },
  {
   "cell_type": "code",
   "execution_count": 7,
   "metadata": {},
   "outputs": [
    {
     "data": {
      "text/plain": [
       "<matplotlib.image.AxesImage at 0x282a164c590>"
      ]
     },
     "execution_count": 7,
     "metadata": {},
     "output_type": "execute_result"
    },
    {
     "data": {
      "image/png": "[encoded data removed]",
      "text/plain": [
       "<Figure size 640x480 with 1 Axes>"
      ]
     },
     "metadata": {},
     "output_type": "display_data"
    }
   ],
   "source": [
    "import matplotlib.pyplot as plt\n",
    "plt.imshow(train_dataset[0][0].squeeze())"
   ]
  },
  {
   "cell_type": "code",
   "execution_count": 8,
   "metadata": {},
   "outputs": [
    {
     "data": {
      "text/plain": [
       "5"
      ]
     },
     "execution_count": 8,
     "metadata": {},
     "output_type": "execute_result"
    }
   ],
   "source": [
    "train_dataset[0][1]"
   ]
  },
  {
   "cell_type": "code",
   "execution_count": 9,
   "metadata": {},
   "outputs": [],
   "source": [
    "from torch.utils.data import random_split\n",
    "train_size = int(0.8 * len(train_dataset))\n",
    "val_size = len(train_dataset) - train_size\n",
    "\n",
    "train_dataset, val_dataset = random_split(train_dataset, (train_size, val_size))"
   ]
  },
  {
   "cell_type": "code",
   "execution_count": 11,
   "metadata": {},
   "outputs": [],
   "source": [
    "train_dataloader = DataLoader(train_dataset, batch_size=64, shuffle=True)\n",
    "val_dataloader = DataLoader(train_dataset, batch_size=64, shuffle=False)\n",
    "test_dataloader = DataLoader(train_dataset, batch_size=64, shuffle=False)"
   ]
  },
  {
   "cell_type": "code",
   "execution_count": 40,
   "metadata": {},
   "outputs": [],
   "source": [
    "import torch.nn.functional as F\n",
    "class DigitClassifier(nn.Module):\n",
    "    def __init__(self):\n",
    "        super().__init__()\n",
    "        self.fc1 = nn.Linear(28 * 28, 128)\n",
    "        self.fc2 = nn.Linear(128, 64)\n",
    "        self.fc3 = nn.Linear(64, 10)\n",
    "\n",
    "    def forward(self, x):\n",
    "        x = x.reshape(-1, 28 * 28)\n",
    "        x = F.relu(self.fc1(x))\n",
    "        x = F.relu(self.fc2(x))\n",
    "        # output = self.softmax(self.fc3(x))\n",
    "        output = self.fc3(x)\n",
    "        return output"
   ]
  },
  {
   "cell_type": "code",
   "execution_count": 18,
   "metadata": {},
   "outputs": [
    {
     "data": {
      "text/plain": [
       "array([[ 6.64899109e-01, -8.76084517e-01, -1.33455011e+00,\n",
       "        -5.40589638e-02,  1.48571686e+00,  5.08687194e-01,\n",
       "         8.31510836e-01,  9.84841715e-01, -1.69657874e-01,\n",
       "        -1.17468465e+00, -6.01138180e-01, -9.64921815e-01,\n",
       "        -1.65358904e+00, -4.83219416e-02,  4.28308383e-01,\n",
       "         1.00238538e+00, -1.02078410e+00, -2.10250268e+00,\n",
       "        -2.73411552e-01,  1.10733670e+00,  1.50622912e+00,\n",
       "        -6.84753282e-01,  2.35966126e-01, -7.07317898e-01,\n",
       "         3.14878627e-01, -3.77668416e-01,  1.79235568e+00,\n",
       "        -1.95456059e-01, -4.16155370e-01, -9.36043111e-02,\n",
       "         2.61561989e-01, -2.81162079e-01,  1.22976331e+00,\n",
       "        -1.73473047e+00,  4.51206355e-03, -1.29611474e+00,\n",
       "        -1.87138171e-01,  5.82106622e-01,  1.10773492e+00,\n",
       "        -2.59642939e+00, -5.92005477e-01,  1.18377959e+00,\n",
       "         2.03870451e+00, -1.60654383e+00, -5.94198604e-01,\n",
       "         7.52210985e-01, -8.36403483e-01, -5.34027466e-01,\n",
       "         5.29797493e-02, -1.36096191e+00, -8.44380421e-02,\n",
       "         7.95002403e-02, -1.92179535e+00,  1.63514587e+00,\n",
       "         1.55797138e+00, -8.50330061e-01, -1.49676331e+00,\n",
       "         3.34352983e-01, -9.58132292e-01,  8.13946950e-01,\n",
       "        -1.15937684e+00, -1.18430144e+00, -7.70103708e-01,\n",
       "         7.79953006e-01, -1.76969248e+00,  6.86676773e-01,\n",
       "        -1.29573328e+00, -3.43029783e-01,  3.87738551e-01,\n",
       "        -4.55338527e-01, -5.16168196e-01, -7.25358148e-01,\n",
       "        -8.35210502e-01, -9.04460005e-01, -1.24197019e+00,\n",
       "         9.73340576e-01,  5.17595717e-02, -9.22082589e-01,\n",
       "         1.93029128e-01, -2.55649961e-02,  6.76886356e-01,\n",
       "         2.15612609e+00,  4.43046784e-02,  4.72461998e-01,\n",
       "        -5.18858374e-01,  2.17627158e+00, -2.53671467e-01,\n",
       "        -3.65728130e-01, -1.94244216e+00,  3.62534397e-01,\n",
       "         1.49524893e+00, -5.92485768e-01, -9.33937371e-01,\n",
       "        -3.54885186e-01, -5.28021727e-01, -1.52605242e+00,\n",
       "         5.71899861e-01,  1.12873545e-01, -7.46767884e-01,\n",
       "         8.73076222e-03, -1.58482568e-01,  9.85100634e-03,\n",
       "         3.32602374e-01,  2.77145371e+00, -1.87584950e+00,\n",
       "        -1.47900186e+00, -9.02646717e-01, -1.50376710e+00,\n",
       "         2.05829730e-01,  8.91773402e-01, -1.74056392e-01,\n",
       "        -1.31079134e+00,  3.04954062e+00,  4.57986875e-01,\n",
       "         1.38361427e+00, -7.25825863e-01,  1.21705077e+00,\n",
       "        -1.18838074e+00,  4.79986734e-01, -2.49545714e-01,\n",
       "        -9.95743780e-01, -3.17050222e-01, -2.84470319e-01,\n",
       "        -1.20535108e+00,  3.19963550e-02,  8.39664696e-01,\n",
       "         6.00030219e-01, -1.20616552e+00,  7.18315474e-01,\n",
       "         6.52149577e-02, -8.71126650e-01,  2.54556940e+00,\n",
       "         4.44095270e-01,  1.43708162e-01,  6.09225807e-01,\n",
       "         7.63283483e-01,  2.60248477e-02,  2.58722190e+00,\n",
       "        -1.73811268e+00, -2.70145143e-01, -2.72623644e-01,\n",
       "         5.16456590e-01,  1.81479354e+00, -4.74604674e-01,\n",
       "         7.74211376e-01,  6.31298338e-01,  1.07572982e+00,\n",
       "        -9.56761997e-01, -2.10824637e+00,  8.54806483e-01,\n",
       "        -6.76694367e-01,  1.89607538e-01,  4.71301366e-01,\n",
       "         7.99989620e-01, -6.89655732e-01,  2.10732916e-01,\n",
       "        -4.23847306e-02, -3.06575672e+00, -1.40560227e+00,\n",
       "         5.11313848e-01, -1.51439138e+00,  5.93760506e-01,\n",
       "         8.65473338e-01, -1.56243793e+00,  1.82658649e+00,\n",
       "        -1.08459541e+00, -3.39089969e-01,  4.18325234e-01,\n",
       "        -9.91567551e-01, -1.67610146e-01, -1.25189101e+00,\n",
       "        -1.20727664e-01,  5.46908596e-01,  1.55074218e+00,\n",
       "         1.08952554e+00,  1.84410132e+00, -2.88379783e-01,\n",
       "         1.80285927e+00, -4.39495785e-01,  1.20984741e+00,\n",
       "         1.09681985e+00,  1.31418927e-01, -5.77935056e-02,\n",
       "        -8.67377802e-01,  1.12116327e+00,  4.34292458e-01,\n",
       "         1.58298763e-01, -4.25799709e-01, -4.16021074e-01,\n",
       "        -7.98536046e-01, -1.41602026e+00, -6.20531545e-01,\n",
       "         7.93923681e-01,  7.96278412e-01, -2.56207989e+00,\n",
       "        -2.30432177e-01, -1.00566853e+00, -1.10705218e+00,\n",
       "        -5.96836105e-01, -8.23685902e-01,  9.44662031e-02,\n",
       "         6.49562694e-01,  2.26197198e+00, -1.69286480e-01,\n",
       "         1.05011549e+00,  1.20145184e+00, -1.26623079e+00,\n",
       "        -6.25710930e-01, -1.51418417e+00, -3.64602414e-01,\n",
       "         9.99193798e-01,  1.80633608e+00, -2.68456498e+00,\n",
       "        -2.87148912e+00, -1.32447546e+00, -7.65581262e-02,\n",
       "        -3.12301057e-01,  5.99286072e-01,  2.81069540e+00,\n",
       "         1.21591735e-01, -1.11510047e-01,  9.42219534e-01,\n",
       "        -2.12437817e+00,  5.69083182e-01, -1.38188383e+00,\n",
       "        -9.44260526e-01, -1.54654941e+00,  1.31328443e+00,\n",
       "         1.04348486e+00,  1.61240827e+00, -4.94022367e-01,\n",
       "         4.70898495e-01,  1.30437125e+00, -5.70617933e-01,\n",
       "        -1.85340926e+00, -5.54159853e-01,  1.09047385e+00,\n",
       "         1.13108923e+00, -7.01947343e-01,  7.77736429e-01,\n",
       "        -1.54609687e-01,  2.07415294e-01,  8.40552386e-02,\n",
       "        -1.84032147e+00, -8.27351533e-01,  4.81890159e-01,\n",
       "         1.26081812e+00, -3.36247080e-01,  1.19319760e+00,\n",
       "         7.66553285e-01,  1.13845669e+00, -2.34369859e+00,\n",
       "        -4.43100185e-01,  5.77610529e-02,  1.04788987e+00,\n",
       "         1.58062468e+00,  1.68097104e+00, -3.35541780e-01,\n",
       "        -1.76163113e+00,  1.54367485e+00, -9.63774894e-01,\n",
       "         6.58415075e-01,  1.07665597e+00,  1.10302981e+00,\n",
       "         2.21518688e-01,  7.05655803e-02,  6.03504119e-01,\n",
       "         1.54132051e+00, -5.77072232e-01,  2.40321294e-02,\n",
       "         7.18711594e-01, -7.63029170e-01, -3.53268259e-01,\n",
       "        -1.60937980e+00,  1.78429885e+00,  1.81286607e+00,\n",
       "         5.91294240e-01, -8.84166110e-01, -7.12445976e-01,\n",
       "         1.33269606e+00, -4.50702650e-02,  5.09389275e-02,\n",
       "         3.12660936e+00, -4.93448816e-01,  1.94608725e+00,\n",
       "         9.28138771e-01, -1.43641840e-02,  4.77867135e-01,\n",
       "         1.17853514e-01, -1.09076008e+00,  1.81616302e+00,\n",
       "         8.22008194e-01,  1.11154639e-01, -7.04066722e-01,\n",
       "        -2.20148748e-01,  1.51733869e+00,  1.04956325e+00,\n",
       "         1.87802759e-01, -7.37220689e-01,  4.19421328e-01,\n",
       "         2.74637875e-01,  2.26442759e+00, -5.24336939e-01,\n",
       "        -1.76317817e-01,  1.96117571e-01, -6.36260650e-01,\n",
       "        -2.08768896e+00, -1.16159568e+00,  8.37314231e-01,\n",
       "         2.10728325e-01, -1.34919589e+00,  1.00308914e+00,\n",
       "        -1.37330091e+00, -8.59769708e-01, -9.12566681e-01,\n",
       "         1.93236682e+00, -1.36605102e+00,  3.20120118e-01,\n",
       "        -5.85037419e-01, -2.41563223e+00, -2.49668423e-02,\n",
       "        -7.86703854e-01,  9.23681777e-01,  3.29900004e-01,\n",
       "         1.66917714e+00,  2.17381267e-01,  8.38028163e-01,\n",
       "        -8.23116832e-01,  1.54180492e-01,  5.85181527e-01,\n",
       "         4.99065827e-01,  1.05382511e+00, -5.43383301e-01,\n",
       "         1.21187839e+00, -2.56713042e-01, -8.94416769e-01,\n",
       "         8.95315247e-02, -8.75719553e-01, -8.47762949e-04,\n",
       "         3.49173530e-01,  1.42774368e+00, -4.56787683e-01,\n",
       "         6.52526886e-01,  7.09290588e-01,  1.26735941e+00,\n",
       "         4.06640990e-01,  2.96420396e-01, -4.00319048e-01,\n",
       "         3.63860452e-01, -1.01650129e+00,  3.02707102e-01,\n",
       "         1.55308205e+00,  2.13798693e+00,  6.10759593e-01,\n",
       "        -6.30125843e-01,  6.74715219e-02,  2.14418984e-01,\n",
       "        -1.26630277e+00, -4.79055878e-01,  1.33835168e-01,\n",
       "        -9.59383923e-01,  1.52814829e+00, -4.62651993e-01,\n",
       "         1.78068553e+00,  1.03068769e+00,  2.10789796e+00,\n",
       "         1.39132815e+00, -3.43268917e-01, -3.51757248e-01,\n",
       "        -1.05437151e-01, -1.00710262e-01, -1.00780456e+00,\n",
       "        -8.06593916e-01,  1.60144999e+00,  1.78204186e+00,\n",
       "        -1.42700634e+00, -4.32395117e-02,  1.67272166e-01,\n",
       "         9.09968824e-01,  2.71962868e-01, -1.02109032e+00,\n",
       "        -2.28683618e+00,  5.08949895e-02,  9.16728591e-03,\n",
       "        -3.91277008e-01,  1.54687280e+00,  6.15715808e-01,\n",
       "         1.65423317e+00,  1.64367043e+00, -2.19359971e-01,\n",
       "        -3.36417771e-01,  1.75381285e+00,  4.31282600e-01,\n",
       "        -3.63761631e-01,  1.14137091e-01, -1.35014551e+00,\n",
       "         2.38585521e-01,  1.55638145e-01,  8.54115436e-01,\n",
       "        -1.08045719e+00, -7.20923699e-02,  7.89639149e-01,\n",
       "        -1.16966063e-01,  1.47567640e-01,  2.84478196e-01,\n",
       "         3.86207502e-01, -1.75772073e-01,  9.23450980e-01,\n",
       "         2.12078377e-01, -1.93429739e+00, -7.08135548e-01,\n",
       "        -8.36748370e-01, -5.59432158e-01,  1.16698748e+00,\n",
       "        -7.89040975e-01, -4.25608613e-01,  5.24352294e-01,\n",
       "         8.89557191e-01, -9.03810255e-01, -3.75905979e-01,\n",
       "         7.84314235e-02, -1.03005559e+00,  1.04724697e+00,\n",
       "         1.35183116e+00, -1.40579635e-01, -9.85969943e-01,\n",
       "         7.70017236e-01, -1.12962779e+00, -3.37028207e-01,\n",
       "         6.52980145e-01, -6.07842216e-01,  2.12709437e+00,\n",
       "         8.24923617e-01,  5.39194835e-01, -9.19323719e-01,\n",
       "        -1.62446116e+00, -9.64674973e-01, -6.12747903e-01,\n",
       "         2.75216315e-01, -1.02274237e+00,  3.06640805e-01,\n",
       "         1.65096742e-02, -5.86900070e-01,  5.77929034e-01,\n",
       "         2.13732128e+00,  1.05025358e+00, -4.08484539e-01,\n",
       "         1.05121079e-01, -7.61869886e-01, -1.47133103e-01,\n",
       "        -4.93336782e-02, -1.39210253e-01, -1.14604186e+00,\n",
       "         7.06501388e-01,  1.43822387e+00, -1.34921794e+00,\n",
       "        -8.28481406e-01, -1.26815272e+00,  7.63534188e-02,\n",
       "        -2.50822278e-01, -1.75213248e+00, -1.53164745e+00,\n",
       "         1.89009394e+00,  1.24237734e+00, -1.20146773e+00,\n",
       "        -1.38121663e-01, -2.77289260e+00,  1.08516678e+00,\n",
       "        -1.02615654e+00,  8.98730643e-01, -1.92494646e+00,\n",
       "         9.93056478e-01, -4.56102489e-02,  4.27736199e-01,\n",
       "         1.65167707e+00,  4.07720572e-01, -3.21695774e-01,\n",
       "         7.33400320e-01, -1.45383182e+00, -9.38056606e-01,\n",
       "        -5.05772392e-01, -6.52198410e-02,  8.14227784e-01,\n",
       "         1.03188629e+00,  7.55007723e-01, -3.86556584e-01,\n",
       "         7.95135932e-01,  2.23670496e+00, -4.75802680e-01,\n",
       "         4.43668866e-01,  3.02207753e-01, -4.27114732e-01,\n",
       "        -9.34652268e-01, -1.59101068e-01,  9.95102515e-02,\n",
       "         8.86723152e-01,  3.06242558e-01, -1.60707686e+00,\n",
       "        -1.19427619e+00, -2.37479549e-01,  1.18744929e+00,\n",
       "        -2.30106777e+00, -1.16237820e-02, -2.59914932e+00,\n",
       "         9.80556931e-01,  2.83375678e-01, -4.58231531e-01,\n",
       "        -5.29373851e-01, -1.02370344e+00,  2.42094647e+00,\n",
       "        -2.23187008e+00,  1.96273023e+00, -2.11393980e+00,\n",
       "        -2.71046224e-02, -1.48010795e+00,  8.01584445e-01,\n",
       "        -6.38403276e-01,  5.23821544e-01,  1.05129756e+00,\n",
       "         9.75562794e-01, -2.00668121e-01,  1.63565528e+00,\n",
       "         3.98146530e-01,  5.23056118e-03, -1.69575448e+00,\n",
       "         1.06705501e-01,  1.65621263e+00, -6.35585095e-01,\n",
       "         1.65659219e+00, -1.60235620e+00,  3.98102558e-01,\n",
       "        -2.85590848e-01,  3.96817510e-01,  7.27369546e-01,\n",
       "         4.03142193e-01,  1.41565898e+00, -2.94081496e-01,\n",
       "         4.00548382e-01,  2.14653198e-01, -6.36721119e-02,\n",
       "        -2.75183935e-03, -1.49567049e-01, -1.48744351e-01,\n",
       "        -6.88075917e-01,  1.81423261e-01, -6.52373892e-02,\n",
       "         1.23005035e-03, -1.20879505e-01, -2.31047872e-01,\n",
       "        -5.40120451e-01, -1.23412426e-01,  6.85850377e-01,\n",
       "        -1.62098164e-01,  8.16330117e-01,  1.27810844e-01,\n",
       "         2.92399282e-01, -3.69113306e-02,  3.98924041e-01,\n",
       "         9.26947181e-01,  3.15719018e-01,  8.06874047e-01,\n",
       "         8.27378448e-02, -3.69428686e-01,  1.97267553e+00,\n",
       "         1.04713256e+00,  1.02300673e+00, -1.11513445e+00,\n",
       "        -2.45272273e-02, -1.66083533e+00,  2.03396270e+00,\n",
       "         4.99773284e-01, -6.48773682e-01, -5.40183965e-01,\n",
       "         7.58643304e-02,  9.69640863e-01,  2.65432555e-01,\n",
       "        -2.21852122e-01,  1.61017687e-01, -1.04231587e+00,\n",
       "         1.50088637e+00, -1.71987408e-01,  7.04536732e-01,\n",
       "        -5.01492726e-01, -1.17519408e-01, -3.59370864e-01,\n",
       "         1.41007299e+00, -4.76704724e-02,  1.82273378e+00,\n",
       "        -2.32924404e+00, -7.59574848e-02,  8.56631489e-01,\n",
       "         2.06349968e-02, -1.77157812e-01,  1.74427200e+00,\n",
       "        -3.44577863e-01,  8.29811257e-01,  1.37769775e+00,\n",
       "        -1.95186495e+00,  6.75283899e-01,  4.33381773e-01,\n",
       "         1.73760453e+00,  1.11488112e+00,  2.04596115e-01,\n",
       "         1.45078695e+00, -1.24471782e+00,  2.21773682e-01,\n",
       "        -1.10585311e-01, -7.48448172e-01, -6.31886867e-01,\n",
       "        -1.00805436e+00, -1.69160561e+00,  6.00213482e-01,\n",
       "        -1.72349745e+00, -1.16601907e+00,  1.55951411e+00,\n",
       "         1.38732737e-02,  1.24113968e+00,  2.18329569e+00,\n",
       "         1.52572989e-01, -3.36110167e-01,  5.40098750e-01,\n",
       "        -1.31790278e+00, -1.03507504e+00,  4.28636756e-01,\n",
       "         7.34184472e-01,  3.46408545e-01,  7.74502174e-01,\n",
       "         1.08847364e-01, -1.29985814e+00,  3.14405106e-01,\n",
       "         5.91255382e-01, -1.20139162e+00, -4.50144306e-01,\n",
       "        -1.42805457e-01,  1.33881718e+00, -7.33592193e-01,\n",
       "        -5.25207945e-01, -1.23378852e+00, -2.35675098e-01,\n",
       "         3.85773596e-01, -1.24855320e-02, -9.18130408e-01,\n",
       "        -1.09085439e+00,  1.44876252e+00,  1.23161238e+00,\n",
       "         1.01655801e+00,  1.70012572e+00,  1.15634268e+00,\n",
       "        -6.46517307e-02, -1.67964606e+00,  1.28910603e+00,\n",
       "        -8.33943314e-01,  1.56654439e+00, -6.45569489e-01,\n",
       "         3.60320659e-01, -1.98049039e-01,  1.17334670e+00,\n",
       "         1.83978808e+00, -1.01256853e+00, -2.23955430e+00,\n",
       "        -7.47944813e-02, -1.96363759e-01,  8.21813474e-01,\n",
       "         7.12134673e-01, -6.79510117e-01,  1.39151034e+00,\n",
       "         4.57837676e-01,  8.44878718e-01,  1.61033206e+00,\n",
       "         1.80132624e+00, -1.98730616e-01,  1.32058203e+00,\n",
       "        -5.97586373e-01,  6.00885594e-01,  2.65545699e-01,\n",
       "        -2.26731154e-01, -5.47173626e-01,  6.47805300e-01,\n",
       "        -2.12161888e-01, -8.21437021e-01,  1.63790649e+00,\n",
       "        -1.15745543e+00,  5.67957164e-01, -1.51933677e+00,\n",
       "         3.07396605e-01, -6.01577902e-01, -5.31887932e-01,\n",
       "        -1.19725028e+00, -4.19772229e-01,  6.21995660e-02,\n",
       "        -8.92070293e-03, -1.23217553e+00, -1.97052101e+00,\n",
       "         1.53365879e+00,  4.92621223e-01, -2.73639862e-01,\n",
       "        -8.48142058e-01,  6.18968803e-01, -6.78493272e-02,\n",
       "        -7.67200069e-01,  9.01857329e-01, -5.45535829e-01,\n",
       "        -2.26814335e+00, -2.19766529e-01, -9.66341934e-01,\n",
       "         1.90578477e+00, -1.96012086e-01, -1.13330691e-01,\n",
       "         3.41137719e-01, -1.05821614e+00, -3.69784411e-01,\n",
       "         1.13982991e+00,  5.73730278e-01, -1.26572568e+00,\n",
       "         1.78421777e-01,  1.10487707e+00,  1.27932255e+00,\n",
       "         2.81829742e-01,  1.32827027e+00,  5.71562142e-01,\n",
       "        -1.03673811e+00,  1.57235957e+00,  5.67773607e-01,\n",
       "        -4.61975318e-01,  1.71909019e-01, -8.57558559e-01,\n",
       "        -7.31723802e-01,  5.35724658e-01,  5.76882431e-01,\n",
       "        -6.86295427e-01,  3.26047224e-01,  2.82199495e-01,\n",
       "         1.00214335e+00,  3.91495143e-01,  1.93287206e-02,\n",
       "        -1.74368610e+00, -4.23337163e-01,  1.28115420e+00,\n",
       "         4.59117845e-01,  1.53367500e+00,  1.50342873e+00,\n",
       "        -7.94807520e-01, -1.78956413e+00,  5.20662236e-02,\n",
       "        -1.27979606e+00,  3.91172750e-01, -2.60295489e+00,\n",
       "        -8.04871335e-01, -5.98723759e-01, -5.89495412e-01,\n",
       "         2.24301534e-01,  5.33089533e-01, -1.82590826e+00,\n",
       "         8.42944307e-01,  4.36911654e-01, -1.58394310e-01,\n",
       "         3.61312400e-01, -2.34353199e+00, -2.98530873e-01,\n",
       "        -2.69814418e-01, -1.05202000e+00,  9.26837852e-01,\n",
       "        -2.00503995e-01,  1.55086229e+00,  1.47437742e+00,\n",
       "         9.81803499e-01,  8.15254780e-01,  3.08433231e-01,\n",
       "        -4.30958948e-01, -6.61418987e-01, -2.10134561e+00,\n",
       "         1.24115581e+00,  5.97160223e-01, -3.61795799e-01,\n",
       "        -5.36869646e-02, -6.74593839e-01, -1.94394903e-01,\n",
       "        -4.44704215e-02, -5.93262315e-01,  1.86565154e+00,\n",
       "         3.66699213e-01, -6.63003526e-01,  1.30025798e+00,\n",
       "        -1.40669553e+00]])"
      ]
     },
     "execution_count": 18,
     "metadata": {},
     "output_type": "execute_result"
    }
   ],
   "source": [
    "import numpy as np\n",
    "x = np.random.randn(28,28)\n",
    "x.reshape(-1, 28 * 28)"
   ]
  },
  {
   "cell_type": "code",
   "execution_count": 26,
   "metadata": {},
   "outputs": [],
   "source": [
    "model = DigitClassifier().to(\"cpu\")\n",
    "criterion = nn.CrossEntropyLoss()\n",
    "optimizer = torch.optim.Adam(model.parameters(), lr=0.01)"
   ]
  },
  {
   "cell_type": "code",
   "execution_count": 27,
   "metadata": {},
   "outputs": [],
   "source": [
    "def taining(model, loader, criterion, optimizer):\n",
    "    model.train()\n",
    "    running_loss = 0\n",
    "    correct = 0\n",
    "    total = 0\n",
    "\n",
    "    for images , labels in loader:\n",
    "\n",
    "        # Loading the data to CPU/ GPU\n",
    "        images, labels = images.to(\"cpu\"), labels.to(\"cpu\")\n",
    "        \n",
    "        # Forward pass\n",
    "        outputs = model(images)\n",
    "        loss = criterion(outputs, labels)\n",
    "\n",
    "        # backward pass\n",
    "        optimizer.zero_grad()\n",
    "        loss.backward()\n",
    "        optimizer.step()\n",
    "\n",
    "        running_loss += loss.item() * images.size(0)\n",
    "        _, predicted = outputs.max(1)\n",
    "        total += labels.size(0)\n",
    "        correct += predicted.eq(labels).sum().item()\n",
    "\n",
    "    acuracy = correct/ total\n",
    "    epoch_loss = running_loss / total\n",
    "    return epoch_loss, acuracy\n",
    "\n",
    "    "
   ]
  },
  {
   "cell_type": "code",
   "execution_count": 34,
   "metadata": {},
   "outputs": [],
   "source": [
    "def evaluate(model, loader, criterion):\n",
    "    model.eval()\n",
    "    running_loss = 0\n",
    "    correct = 0\n",
    "    total = 0\n",
    "    with torch.no_grad():\n",
    "        for images, labels in loader:\n",
    "            images, labels = images.to(\"cpu\"), labels.to(\"cpu\")\n",
    "\n",
    "            outputs = model(images)\n",
    "            loss = criterion(outputs, labels)\n",
    "\n",
    "            running_loss += loss.item() * images.size(0)\n",
    "            _, predicted = outputs.max(1)\n",
    "            total += labels.size(0)\n",
    "            correct += predicted.eq(labels).sum().item()\n",
    "\n",
    "    epoch_loss = running_loss / total\n",
    "    accuracy = correct / total\n",
    "    return epoch_loss, accuracy"
   ]
  },
  {
   "cell_type": "code",
   "execution_count": 35,
   "metadata": {},
   "outputs": [
    {
     "name": "stdout",
     "output_type": "stream",
     "text": [
      "Epoch: 1/10\n",
      "Train Loss: 0.1680, Train Accuracy: 0.9556\n",
      "Validation Loss: 0.1609, Validation Accuracy: 0.9582\n",
      "Epoch: 2/10\n",
      "Train Loss: 0.1690, Train Accuracy: 0.9558\n",
      "Validation Loss: 0.1221, Validation Accuracy: 0.9679\n",
      "Epoch: 3/10\n",
      "Train Loss: 0.1690, Train Accuracy: 0.9556\n",
      "Validation Loss: 0.1921, Validation Accuracy: 0.9503\n",
      "Epoch: 4/10\n",
      "Train Loss: 0.1532, Train Accuracy: 0.9613\n",
      "Validation Loss: 0.1373, Validation Accuracy: 0.9623\n",
      "Epoch: 5/10\n",
      "Train Loss: 0.1564, Train Accuracy: 0.9603\n",
      "Validation Loss: 0.1525, Validation Accuracy: 0.9616\n",
      "Epoch: 6/10\n",
      "Train Loss: 0.1611, Train Accuracy: 0.9589\n",
      "Validation Loss: 0.1701, Validation Accuracy: 0.9558\n",
      "Epoch: 7/10\n",
      "Train Loss: 0.1585, Train Accuracy: 0.9596\n",
      "Validation Loss: 0.1341, Validation Accuracy: 0.9654\n",
      "Epoch: 8/10\n",
      "Train Loss: 0.1532, Train Accuracy: 0.9612\n",
      "Validation Loss: 0.1805, Validation Accuracy: 0.9520\n",
      "Epoch: 9/10\n",
      "Train Loss: 0.1530, Train Accuracy: 0.9611\n",
      "Validation Loss: 0.1236, Validation Accuracy: 0.9676\n",
      "Epoch: 10/10\n",
      "Train Loss: 0.1464, Train Accuracy: 0.9617\n",
      "Validation Loss: 0.1233, Validation Accuracy: 0.9656\n"
     ]
    }
   ],
   "source": [
    "number_of_epoch = 10\n",
    "\n",
    "for epoch in range(1, number_of_epoch+1):\n",
    "    train_loss, train_acc = taining(model, train_dataloader, criterion, optimizer)\n",
    "    val_loss, val_acc = evaluate(model, val_dataloader, criterion)\n",
    "\n",
    "    print(f\"Epoch: {epoch}/{number_of_epoch}\")\n",
    "    print(f\"Train Loss: {train_loss:.4f}, Train Accuracy: {train_acc:.4f}\")\n",
    "    print(f\"Validation Loss: {val_loss:.4f}, Validation Accuracy: {val_acc:.4f}\")"
   ]
  },
  {
   "cell_type": "code",
   "execution_count": 36,
   "metadata": {},
   "outputs": [
    {
     "name": "stdout",
     "output_type": "stream",
     "text": [
      "Test Loss: 0.1233, Test Accuracy: 0.9656\n"
     ]
    }
   ],
   "source": [
    "test_loss, test_acc = evaluate(model, test_dataloader, criterion)\n",
    "print(f\"Test Loss: {test_loss:.4f}, Test Accuracy: {test_acc:.4f}\")"
   ]
  },
  {
   "cell_type": "code",
   "execution_count": 37,
   "metadata": {},
   "outputs": [
    {
     "name": "stdout",
     "output_type": "stream",
     "text": [
      "Model is saved!!!\n"
     ]
    }
   ],
   "source": [
    "torch.save(model.state_dict(), \"mnist_digit_classifier.pth\")\n",
    "print(\"Model is saved!!!\")"
   ]
  },
  {
   "cell_type": "code",
   "execution_count": 39,
   "metadata": {},
   "outputs": [
    {
     "data": {
      "text/plain": [
       "DigitClassifier(\n",
       "  (fc1): Linear(in_features=784, out_features=128, bias=True)\n",
       "  (fc2): Linear(in_features=128, out_features=64, bias=True)\n",
       "  (fc3): Linear(in_features=64, out_features=10, bias=True)\n",
       "  (softmax): LogSoftmax(dim=10)\n",
       ")"
      ]
     },
     "execution_count": 39,
     "metadata": {},
     "output_type": "execute_result"
    }
   ],
   "source": [
    "# Load the model\n",
    "loaded_model = DigitClassifier().to(\"cpu\")\n",
    "loaded_model.load_state_dict(torch.load(\"mnist_digit_classifier.pth\", weights_only=True))\n",
    "loaded_model.eval()"
   ]
  },
  {
   "cell_type": "code",
   "execution_count": 67,
   "metadata": {},
   "outputs": [],
   "source": [
    "def inference(model, image):\n",
    "    model.eval()\n",
    "    with torch.no_grad():\n",
    "        image = image.to(\"cpu\")\n",
    "        output = model(image)\n",
    "        _, predicted_class = output.max(1)\n",
    "    return predicted_class.item()"
   ]
  },
  {
   "cell_type": "code",
   "execution_count": 75,
   "metadata": {},
   "outputs": [],
   "source": [
    "import cv2\n",
    "def preprocess_image(image):\n",
    "\n",
    "    image = cv2.bitwise_not(image)\n",
    "\n",
    "    all_transformation = transforms.Compose([\n",
    "        transforms.ToPILImage(),\n",
    "        transforms.Grayscale(num_output_channels=1),\n",
    "        transforms.ToTensor(),\n",
    "        transforms.Resize((28, 28)),\n",
    "        transforms.Normalize(mean=(0.5,), std=(0.5,))\n",
    "    ])\n",
    "\n",
    "    img = all_transformation(image)\n",
    "    return img"
   ]
  },
  {
   "cell_type": "code",
   "execution_count": 85,
   "metadata": {},
   "outputs": [
    {
     "data": {
      "text/plain": [
       "<matplotlib.image.AxesImage at 0x282b24d33d0>"
      ]
     },
     "execution_count": 85,
     "metadata": {},
     "output_type": "execute_result"
    },
    {
     "data": {
      "image/png": "[encoded data removed]",
      "text/plain": [
       "<Figure size 640x480 with 1 Axes>"
      ]
     },
     "metadata": {},
     "output_type": "display_data"
    }
   ],
   "source": [
    "import matplotlib.pyplot as plt\n",
    "import cv2\n",
    "bgr_img = cv2.imread(\"digit_4.png\")\n",
    "rgb_img = cv2.cvtColor(bgr_img, cv2.COLOR_BGR2RGB)\n",
    "plt.imshow(rgb_img)\n"
   ]
  },
  {
   "cell_type": "code",
   "execution_count": 86,
   "metadata": {},
   "outputs": [],
   "source": [
    "preprocessed_img = preprocess_image(rgb_img)"
   ]
  },
  {
   "cell_type": "code",
   "execution_count": 87,
   "metadata": {},
   "outputs": [
    {
     "data": {
      "text/plain": [
       "torch.Size([1, 28, 28])"
      ]
     },
     "execution_count": 87,
     "metadata": {},
     "output_type": "execute_result"
    }
   ],
   "source": [
    "preprocessed_img.shape"
   ]
  },
  {
   "cell_type": "code",
   "execution_count": 88,
   "metadata": {},
   "outputs": [
    {
     "data": {
      "text/plain": [
       "<matplotlib.image.AxesImage at 0x282b291ad10>"
      ]
     },
     "execution_count": 88,
     "metadata": {},
     "output_type": "execute_result"
    },
    {
     "data": {
      "image/png": "[encoded data removed]",
      "text/plain": [
       "<Figure size 640x480 with 1 Axes>"
      ]
     },
     "metadata": {},
     "output_type": "display_data"
    }
   ],
   "source": [
    "plt.imshow(preprocessed_img.squeeze(), cmap=\"gray\")"
   ]
  },
  {
   "cell_type": "code",
   "execution_count": 89,
   "metadata": {},
   "outputs": [
    {
     "data": {
      "text/plain": [
       "8"
      ]
     },
     "execution_count": 89,
     "metadata": {},
     "output_type": "execute_result"
    }
   ],
   "source": [
    "inference(loaded_model, preprocessed_img)"
   ]
  },
  {
   "cell_type": "code",
   "execution_count": null,
   "metadata": {},
   "outputs": [],
   "source": []
  }
 ],
 "metadata": {
  "kernelspec": {
   "display_name": "CV_krish",
   "language": "python",
   "name": "python3"
  },
  "language_info": {
   "codemirror_mode": {
    "name": "ipython",
    "version": 3
   },
   "file_extension": ".py",
   "mimetype": "text/x-python",
   "name": "python",
   "nbconvert_exporter": "python",
   "pygments_lexer": "ipython3",
   "version": "3.11.10"
  }
 },
 "nbformat": 4,
 "nbformat_minor": 2
}
