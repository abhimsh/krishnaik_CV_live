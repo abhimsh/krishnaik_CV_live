{
 "cells": [
  {
   "cell_type": "code",
   "execution_count": 1,
   "metadata": {},
   "outputs": [],
   "source": [
    "import torch\n",
    "import torch.nn as nn\n",
    "from torchvision.datasets import mnist\n",
    "from torchvision.transforms import transforms\n",
    "from torch.utils.data import DataLoader, random_split\n",
    "\n",
    "device = \"cpu\""
   ]
  },
  {
   "cell_type": "code",
   "execution_count": 2,
   "metadata": {},
   "outputs": [],
   "source": [
    "preprocess_train = transforms.Compose([\n",
    "    transforms.ToTensor(),\n",
    "    transforms.Normalize(mean=(0.5,), std=(0.5,))\n",
    "])"
   ]
  },
  {
   "cell_type": "code",
   "execution_count": 3,
   "metadata": {},
   "outputs": [],
   "source": [
    "train_ratio = 0.8\n",
    "\n",
    "train_dataset = mnist.MNIST(root=\"./data\", train=True, download=False, transform=preprocess_train)\n",
    "test_dataset = mnist.MNIST(root=\"./data\", train=False, download=False, transform=preprocess_train)\n",
    "\n",
    "train_size = int(train_ratio * len(train_dataset))\n",
    "val_size = len(train_dataset) - train_size\n",
    "\n",
    "train_dataset, val_dataset = random_split(train_dataset, (train_size, val_size))"
   ]
  },
  {
   "cell_type": "code",
   "execution_count": 14,
   "metadata": {},
   "outputs": [],
   "source": [
    "class MNISTCNN(nn.Module):\n",
    "    def __init__(self):\n",
    "        super().__init__()\n",
    "        self.conv1 = nn.Conv2d(1, 64, kernel_size=3, stride=1, padding=1)\n",
    "        self.conv2 = nn.Conv2d(64, 128, kernel_size=3, stride=1, padding=1)\n",
    "        self.max_pool = nn.MaxPool2d(kernel_size=2, stride=2)\n",
    "        self.gap = nn.AdaptiveAvgPool2d((1, 1))\n",
    "        self.fc1 = nn.Linear(128*7*7, 64)\n",
    "        self.fc2 = nn.Linear(64, 10)\n",
    "        self.relu = nn.ReLU()\n",
    "\n",
    "    def forward(self, x):\n",
    "        # 1x28x28\n",
    "        # 1st layer\n",
    "        x = self.conv1(x)\n",
    "        x = self.relu(x)\n",
    "        x = self.max_pool(x)  #64x14x14\n",
    "\n",
    "        # 2nd layer\n",
    "        x = self.conv2(x)\n",
    "        x = self.relu(x)\n",
    "        x = self.max_pool(x) # 128x7x7\n",
    "\n",
    "        # x = self.gap(x) # 128x1x1\n",
    "        x = x.reshape(x.size(0), -1)\n",
    "\n",
    "        # Fully Connected layer\n",
    "        x = self.fc1(x)\n",
    "        output = self.fc2(x)\n",
    "        return output"
   ]
  },
  {
   "cell_type": "code",
   "execution_count": 15,
   "metadata": {},
   "outputs": [],
   "source": [
    "learning_rate = 0.01\n",
    "\n",
    "model = MNISTCNN().to(\"cpu\")\n",
    "criterion = nn.CrossEntropyLoss()\n",
    "optimizer = torch.optim.Adam(model.parameters(), lr=learning_rate)"
   ]
  },
  {
   "cell_type": "code",
   "execution_count": 16,
   "metadata": {},
   "outputs": [],
   "source": [
    "batch_size=64\n",
    "\n",
    "train_dataloader = DataLoader(train_dataset, batch_size=batch_size, shuffle=True)\n",
    "val_dataloader = DataLoader(val_dataset, batch_size=batch_size, shuffle=False)\n",
    "test_dataloader = DataLoader(test_dataset, batch_size=batch_size, shuffle=False)"
   ]
  },
  {
   "cell_type": "code",
   "execution_count": 17,
   "metadata": {},
   "outputs": [
    {
     "name": "stdout",
     "output_type": "stream",
     "text": [
      "Epoch: 1/20, Loss: 0.4479100518375635, Accuracy: 0.8804166666666666\n",
      "Epoch: 2/20, Loss: 0.24162058102587858, Accuracy: 0.9239166666666667\n",
      "Epoch: 3/20, Loss: 0.2220906640489896, Accuracy: 0.9300416666666667\n",
      "Epoch: 4/20, Loss: 0.2103060322354237, Accuracy: 0.9347291666666667\n",
      "Epoch: 5/20, Loss: 0.20258984697858493, Accuracy: 0.9363541666666667\n",
      "Epoch: 6/20, Loss: 0.2063052547921737, Accuracy: 0.9361458333333333\n",
      "Epoch: 7/20, Loss: 0.1716219196021557, Accuracy: 0.9466041666666667\n",
      "Epoch: 8/20, Loss: 0.1534860004025201, Accuracy: 0.9525416666666666\n",
      "Epoch: 9/20, Loss: 0.1398270143835495, Accuracy: 0.9575\n",
      "Epoch: 10/20, Loss: 0.1217917125041907, Accuracy: 0.9624791666666667\n",
      "Epoch: 11/20, Loss: 0.11533743335182468, Accuracy: 0.9645833333333333\n",
      "Epoch: 12/20, Loss: 0.10834665813110769, Accuracy: 0.9671041666666667\n",
      "Epoch: 13/20, Loss: 0.10393973960075527, Accuracy: 0.968875\n",
      "Epoch: 14/20, Loss: 0.09973819935360613, Accuracy: 0.9698958333333333\n",
      "Epoch: 15/20, Loss: 0.09851686878463564, Accuracy: 0.9696875\n",
      "Epoch: 16/20, Loss: 0.09607080767862498, Accuracy: 0.9711458333333334\n",
      "Epoch: 17/20, Loss: 0.09024906489936015, Accuracy: 0.9725208333333333\n",
      "Epoch: 18/20, Loss: 0.09389833675914755, Accuracy: 0.9721458333333334\n",
      "Epoch: 19/20, Loss: 0.0967557779531926, Accuracy: 0.9708958333333333\n",
      "Epoch: 20/20, Loss: 0.08881344213740279, Accuracy: 0.9724375\n"
     ]
    }
   ],
   "source": [
    "number_of_epoch = 20\n",
    "model.train()\n",
    "\n",
    "for epoch in range(1, number_of_epoch+1):\n",
    "    running_loss = 0\n",
    "    correct = 0\n",
    "    total = 0\n",
    "    for images, labels in train_dataloader:\n",
    "        images, labels = images.to(device), labels.to(device)\n",
    "        # FP\n",
    "        outputs = model(images)\n",
    "        loss= criterion(outputs, labels)\n",
    "        # BP\n",
    "        optimizer.zero_grad()\n",
    "        loss.backward()\n",
    "        optimizer.step()\n",
    "\n",
    "        running_loss += loss.item()\n",
    "        _, predicted = outputs.max(1)\n",
    "        correct += predicted.eq(labels).sum().item()\n",
    "        total += images.size(0)\n",
    "\n",
    "    print(f\"Epoch: {epoch}/{number_of_epoch}, Loss: {running_loss / len(train_dataloader)}, Accuracy: {correct / total}\")"
   ]
  },
  {
   "cell_type": "code",
   "execution_count": 20,
   "metadata": {},
   "outputs": [],
   "source": [
    "torch.save(model.state_dict(), \"cnn_mnist.pth\")"
   ]
  },
  {
   "cell_type": "code",
   "execution_count": 18,
   "metadata": {},
   "outputs": [
    {
     "name": "stdout",
     "output_type": "stream",
     "text": [
      "Epoch: 20/20, Loss: 0.11072797982512597, Accuracy: 0.9675\n"
     ]
    }
   ],
   "source": [
    "running_loss = 0\n",
    "correct = 0\n",
    "total = 0\n",
    "for images, labels in val_dataloader:\n",
    "    images, labels = images.to(device), labels.to(device)\n",
    "    # FP\n",
    "    outputs = model(images)\n",
    "    loss= criterion(outputs, labels)\n",
    "    # BP\n",
    "    optimizer.zero_grad()\n",
    "    loss.backward()\n",
    "    optimizer.step()\n",
    "\n",
    "    running_loss += loss.item()\n",
    "    _, predicted = outputs.max(1)\n",
    "    correct += predicted.eq(labels).sum().item()\n",
    "    total += images.size(0)\n",
    "\n",
    "print(f\"Epoch: {epoch}/{number_of_epoch}, Loss: {running_loss / len(val_dataloader)}, Accuracy: {correct / total}\")"
   ]
  },
  {
   "cell_type": "code",
   "execution_count": 19,
   "metadata": {},
   "outputs": [
    {
     "name": "stdout",
     "output_type": "stream",
     "text": [
      "Epoch: 20/20, Loss: 0.11158064691703744, Accuracy: 0.9677\n"
     ]
    }
   ],
   "source": [
    "running_loss = 0\n",
    "correct = 0\n",
    "total = 0\n",
    "for images, labels in test_dataloader:\n",
    "    images, labels = images.to(device), labels.to(device)\n",
    "    # FP\n",
    "    outputs = model(images)\n",
    "    loss= criterion(outputs, labels)\n",
    "    # BP\n",
    "    optimizer.zero_grad()\n",
    "    loss.backward()\n",
    "    optimizer.step()\n",
    "\n",
    "    running_loss += loss.item()\n",
    "    _, predicted = outputs.max(1)\n",
    "    correct += predicted.eq(labels).sum().item()\n",
    "    total += images.size(0)\n",
    "\n",
    "print(f\"Epoch: {epoch}/{number_of_epoch}, Loss: {running_loss / len(test_dataloader)}, Accuracy: {correct / total}\")"
   ]
  },
  {
   "cell_type": "code",
   "execution_count": 19,
   "metadata": {},
   "outputs": [
    {
     "data": {
      "text/plain": [
       "12000"
      ]
     },
     "execution_count": 19,
     "metadata": {},
     "output_type": "execute_result"
    }
   ],
   "source": [
    "total"
   ]
  },
  {
   "cell_type": "code",
   "execution_count": 16,
   "metadata": {},
   "outputs": [
    {
     "data": {
      "text/plain": [
       "12000"
      ]
     },
     "execution_count": 16,
     "metadata": {},
     "output_type": "execute_result"
    }
   ],
   "source": [
    "total"
   ]
  },
  {
   "cell_type": "code",
   "execution_count": null,
   "metadata": {},
   "outputs": [],
   "source": []
  }
 ],
 "metadata": {
  "kernelspec": {
   "display_name": "CV_krish",
   "language": "python",
   "name": "python3"
  },
  "language_info": {
   "codemirror_mode": {
    "name": "ipython",
    "version": 3
   },
   "file_extension": ".py",
   "mimetype": "text/x-python",
   "name": "python",
   "nbconvert_exporter": "python",
   "pygments_lexer": "ipython3",
   "version": "3.11.10"
  }
 },
 "nbformat": 4,
 "nbformat_minor": 2
}
