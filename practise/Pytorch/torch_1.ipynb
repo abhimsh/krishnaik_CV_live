{
 "cells": [
  {
   "cell_type": "code",
   "execution_count": 2,
   "metadata": {},
   "outputs": [],
   "source": [
    "import torch"
   ]
  },
  {
   "cell_type": "code",
   "execution_count": 2,
   "metadata": {},
   "outputs": [],
   "source": [
    "scalar = torch.tensor(55)"
   ]
  },
  {
   "cell_type": "code",
   "execution_count": 3,
   "metadata": {},
   "outputs": [
    {
     "data": {
      "text/plain": [
       "(0, torch.Size([]))"
      ]
     },
     "execution_count": 3,
     "metadata": {},
     "output_type": "execute_result"
    }
   ],
   "source": [
    "scalar.ndim, scalar.shape"
   ]
  },
  {
   "cell_type": "code",
   "execution_count": 4,
   "metadata": {},
   "outputs": [
    {
     "name": "stdout",
     "output_type": "stream",
     "text": [
      "1\n",
      "torch.Size([2])\n",
      "torch.int64\n"
     ]
    }
   ],
   "source": [
    "vector = torch.tensor([0, 1])\n",
    "print(vector.ndim)\n",
    "print(vector.shape)\n",
    "print(vector.dtype)"
   ]
  },
  {
   "cell_type": "code",
   "execution_count": 5,
   "metadata": {},
   "outputs": [
    {
     "name": "stdout",
     "output_type": "stream",
     "text": [
      "1\n",
      "torch.Size([2])\n",
      "torch.float32\n"
     ]
    }
   ],
   "source": [
    "vector = torch.tensor([0., 1.])\n",
    "print(vector.ndim)\n",
    "print(vector.shape)\n",
    "print(vector.dtype)"
   ]
  },
  {
   "cell_type": "code",
   "execution_count": 5,
   "metadata": {},
   "outputs": [],
   "source": [
    "# Adding ramdom noise image\n",
    "import cv2\n",
    "random_image = torch.rand(size=(150,150,3))\n",
    "random_image1 = random_image * 200\n",
    "cv2.imshow(\"Random Noise\", random_image1.numpy())\n",
    "cv2.waitKey()\n",
    "cv2.destroyAllWindows()\n"
   ]
  },
  {
   "cell_type": "code",
   "execution_count": 6,
   "metadata": {},
   "outputs": [],
   "source": [
    "vector = torch.tensor([1, 2, 4], dtype=torch.int64)"
   ]
  },
  {
   "cell_type": "code",
   "execution_count": 8,
   "metadata": {},
   "outputs": [
    {
     "data": {
      "text/plain": [
       "tensor(2.3333, dtype=torch.float64)"
      ]
     },
     "execution_count": 8,
     "metadata": {},
     "output_type": "execute_result"
    }
   ],
   "source": [
    "vector.type(torch.float64).mean()"
   ]
  },
  {
   "cell_type": "code",
   "execution_count": 9,
   "metadata": {},
   "outputs": [
    {
     "data": {
      "text/plain": [
       "2.3333333333333335"
      ]
     },
     "execution_count": 9,
     "metadata": {},
     "output_type": "execute_result"
    }
   ],
   "source": [
    "vector.type(torch.float64).mean().item()"
   ]
  },
  {
   "cell_type": "code",
   "execution_count": 11,
   "metadata": {},
   "outputs": [
    {
     "data": {
      "text/plain": [
       "tensor([[-0.1768, -0.6557,  1.8454,  0.5167],\n",
       "        [-0.6049,  0.4611, -0.4150, -1.3875],\n",
       "        [ 0.6457,  0.3177,  0.6517,  0.6716],\n",
       "        [-1.9630,  0.3051,  1.1342, -0.3471]])"
      ]
     },
     "execution_count": 11,
     "metadata": {},
     "output_type": "execute_result"
    }
   ],
   "source": [
    "tensor_random = torch.randn(4,4)\n",
    "tensor_random"
   ]
  },
  {
   "cell_type": "code",
   "execution_count": 13,
   "metadata": {},
   "outputs": [
    {
     "data": {
      "text/plain": [
       "tensor([-0.1768, -0.6557,  1.8454,  0.5167, -0.6049,  0.4611, -0.4150, -1.3875,\n",
       "         0.6457,  0.3177,  0.6517,  0.6716, -1.9630,  0.3051,  1.1342, -0.3471])"
      ]
     },
     "execution_count": 13,
     "metadata": {},
     "output_type": "execute_result"
    }
   ],
   "source": [
    "tensor_random_view_16 = tensor_random.view(16)\n",
    "tensor_random_view_16"
   ]
  },
  {
   "cell_type": "code",
   "execution_count": 15,
   "metadata": {},
   "outputs": [
    {
     "data": {
      "text/plain": [
       "tensor([[-0.1768, -0.6557,  1.8454,  0.5167, -0.6049,  0.4611, -0.4150, -1.3875],\n",
       "        [ 0.6457,  0.3177,  0.6517,  0.6716, -1.9630,  0.3051,  1.1342, -0.3471]])"
      ]
     },
     "execution_count": 15,
     "metadata": {},
     "output_type": "execute_result"
    }
   ],
   "source": [
    "tensor_random_view_8 = tensor_random.view(-1, 8)\n",
    "tensor_random_view_8"
   ]
  },
  {
   "cell_type": "code",
   "execution_count": 16,
   "metadata": {},
   "outputs": [
    {
     "data": {
      "text/plain": [
       "tensor([[-0.1768, -0.6557],\n",
       "        [ 1.8454,  0.5167],\n",
       "        [-0.6049,  0.4611],\n",
       "        [-0.4150, -1.3875],\n",
       "        [ 0.6457,  0.3177],\n",
       "        [ 0.6517,  0.6716],\n",
       "        [-1.9630,  0.3051],\n",
       "        [ 1.1342, -0.3471]])"
      ]
     },
     "execution_count": 16,
     "metadata": {},
     "output_type": "execute_result"
    }
   ],
   "source": [
    "tensor_random_view_8 = tensor_random.view(-1, 2)\n",
    "tensor_random_view_8"
   ]
  },
  {
   "cell_type": "code",
   "execution_count": 17,
   "metadata": {},
   "outputs": [],
   "source": [
    "tensor_random = torch.randn(4,4)\n",
    "tensor_random_T = tensor_random.T"
   ]
  },
  {
   "cell_type": "code",
   "execution_count": 18,
   "metadata": {},
   "outputs": [
    {
     "data": {
      "text/plain": [
       "False"
      ]
     },
     "execution_count": 18,
     "metadata": {},
     "output_type": "execute_result"
    }
   ],
   "source": [
    "tensor_random_T.is_contiguous()"
   ]
  },
  {
   "cell_type": "code",
   "execution_count": 19,
   "metadata": {},
   "outputs": [
    {
     "data": {
      "text/plain": [
       "tensor([[-1.1455, -1.8829, -0.8723, -0.1316],\n",
       "        [ 2.4259, -0.2413,  1.2979,  1.1251],\n",
       "        [-1.0680,  2.4040, -0.7779, -0.5085],\n",
       "        [ 1.2625, -0.6713,  1.1130,  0.6787]])"
      ]
     },
     "execution_count": 19,
     "metadata": {},
     "output_type": "execute_result"
    }
   ],
   "source": [
    "tensor_random_T.reshape(-1, 4)"
   ]
  },
  {
   "cell_type": "code",
   "execution_count": 20,
   "metadata": {},
   "outputs": [
    {
     "data": {
      "text/plain": [
       "tensor([-1.1455, -1.8829, -0.8723, -0.1316,  2.4259, -0.2413,  1.2979,  1.1251,\n",
       "        -1.0680,  2.4040, -0.7779, -0.5085,  1.2625, -0.6713,  1.1130,  0.6787])"
      ]
     },
     "execution_count": 20,
     "metadata": {},
     "output_type": "execute_result"
    }
   ],
   "source": [
    "tensor_random_T.reshape(-1,)"
   ]
  },
  {
   "cell_type": "code",
   "execution_count": 23,
   "metadata": {},
   "outputs": [
    {
     "name": "stdout",
     "output_type": "stream",
     "text": [
      "tensor([[ 1.2214, -1.5826,  1.3774],\n",
      "        [ 1.2178, -0.5318,  0.8103]])\n",
      "tensor([[-0.0614, -0.7121, -1.4664],\n",
      "        [-1.6257,  0.0478,  0.3713]])\n"
     ]
    },
    {
     "data": {
      "text/plain": [
       "tensor([[[ 1.2214, -1.5826,  1.3774],\n",
       "         [ 1.2178, -0.5318,  0.8103]],\n",
       "\n",
       "        [[-0.0614, -0.7121, -1.4664],\n",
       "         [-1.6257,  0.0478,  0.3713]]])"
      ]
     },
     "execution_count": 23,
     "metadata": {},
     "output_type": "execute_result"
    }
   ],
   "source": [
    "tensor_a = torch.randn(2, 3)\n",
    "tensor_b = torch.randn(2, 3)\n",
    "print(tensor_a)\n",
    "print(tensor_b)\n",
    "torch.stack((tensor_a, tensor_b))"
   ]
  },
  {
   "cell_type": "code",
   "execution_count": 27,
   "metadata": {},
   "outputs": [
    {
     "data": {
      "text/plain": [
       "tensor([[[ 1.2214, -1.5826,  1.3774],\n",
       "         [-0.0614, -0.7121, -1.4664]],\n",
       "\n",
       "        [[ 1.2178, -0.5318,  0.8103],\n",
       "         [-1.6257,  0.0478,  0.3713]]])"
      ]
     },
     "execution_count": 27,
     "metadata": {},
     "output_type": "execute_result"
    }
   ],
   "source": [
    "dim_stacking = torch.stack((tensor_a, tensor_b), dim=1)\n",
    "dim_stacking"
   ]
  },
  {
   "cell_type": "code",
   "execution_count": 26,
   "metadata": {},
   "outputs": [
    {
     "data": {
      "text/plain": [
       "torch.Size([2, 2, 3])"
      ]
     },
     "execution_count": 26,
     "metadata": {},
     "output_type": "execute_result"
    }
   ],
   "source": [
    "dim_stacking.shape"
   ]
  },
  {
   "cell_type": "code",
   "execution_count": 28,
   "metadata": {},
   "outputs": [
    {
     "data": {
      "text/plain": [
       "tensor([[ 1.2214, -1.5826,  1.3774],\n",
       "        [-0.0614, -0.7121, -1.4664]])"
      ]
     },
     "execution_count": 28,
     "metadata": {},
     "output_type": "execute_result"
    }
   ],
   "source": [
    "dim_stacking[0]"
   ]
  },
  {
   "cell_type": "code",
   "execution_count": 29,
   "metadata": {},
   "outputs": [
    {
     "data": {
      "text/plain": [
       "tensor([[ 1.2178, -0.5318,  0.8103],\n",
       "        [-1.6257,  0.0478,  0.3713]])"
      ]
     },
     "execution_count": 29,
     "metadata": {},
     "output_type": "execute_result"
    }
   ],
   "source": [
    "dim_stacking[1]"
   ]
  },
  {
   "cell_type": "code",
   "execution_count": 32,
   "metadata": {},
   "outputs": [
    {
     "name": "stdout",
     "output_type": "stream",
     "text": [
      "tensor([[ 1.2214, -1.5826,  1.3774],\n",
      "        [ 1.2178, -0.5318,  0.8103]])\n",
      "tensor([[-0.0614, -0.7121, -1.4664],\n",
      "        [-1.6257,  0.0478,  0.3713]])\n",
      "tensor([[[ 1.2214, -0.0614],\n",
      "         [-1.5826, -0.7121],\n",
      "         [ 1.3774, -1.4664]],\n",
      "\n",
      "        [[ 1.2178, -1.6257],\n",
      "         [-0.5318,  0.0478],\n",
      "         [ 0.8103,  0.3713]]])\n",
      "torch.Size([2, 3, 2])\n"
     ]
    }
   ],
   "source": [
    "dim_stacking_2 = torch.stack((tensor_a, tensor_b), dim=2)\n",
    "print(tensor_a)\n",
    "print(tensor_b)\n",
    "print(dim_stacking_2)\n",
    "print(dim_stacking_2.shape)"
   ]
  },
  {
   "cell_type": "code",
   "execution_count": null,
   "metadata": {},
   "outputs": [],
   "source": []
  }
 ],
 "metadata": {
  "kernelspec": {
   "display_name": "CV_krish",
   "language": "python",
   "name": "python3"
  },
  "language_info": {
   "codemirror_mode": {
    "name": "ipython",
    "version": 3
   },
   "file_extension": ".py",
   "mimetype": "text/x-python",
   "name": "python",
   "nbconvert_exporter": "python",
   "pygments_lexer": "ipython3",
   "version": "3.11.10"
  }
 },
 "nbformat": 4,
 "nbformat_minor": 2
}
