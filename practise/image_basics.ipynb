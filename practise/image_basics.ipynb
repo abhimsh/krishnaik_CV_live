{
 "cells": [
  {
   "cell_type": "code",
   "execution_count": 22,
   "metadata": {},
   "outputs": [],
   "source": [
    "from PIL import Image"
   ]
  },
  {
   "cell_type": "code",
   "execution_count": 23,
   "metadata": {},
   "outputs": [],
   "source": [
    "img = Image.new(\"RGB\", (200, 200), (255,180,6))"
   ]
  },
  {
   "cell_type": "code",
   "execution_count": 24,
   "metadata": {},
   "outputs": [
    {
     "data": {
      "text/plain": [
       "((200, 200), 'RGB', ('R', 'G', 'B'))"
      ]
     },
     "execution_count": 24,
     "metadata": {},
     "output_type": "execute_result"
    }
   ],
   "source": [
    "img.size, img.mode, img.getbands()"
   ]
  },
  {
   "cell_type": "code",
   "execution_count": null,
   "metadata": {},
   "outputs": [],
   "source": [
    "# img.show(\"Created Image\")"
   ]
  },
  {
   "cell_type": "code",
   "execution_count": null,
   "metadata": {},
   "outputs": [],
   "source": [
    "gray_img = Image.new(\"L\", (300, 100), (180))"
   ]
  },
  {
   "cell_type": "code",
   "execution_count": null,
   "metadata": {},
   "outputs": [],
   "source": [
    "gray_img.mode, gray_img.size, gray_img.getbands()"
   ]
  },
  {
   "cell_type": "code",
   "execution_count": null,
   "metadata": {},
   "outputs": [],
   "source": [
    "# gray_img.show(\"Gray-Scale image\")"
   ]
  },
  {
   "cell_type": "markdown",
   "metadata": {},
   "source": [
    "## OpenCV"
   ]
  },
  {
   "cell_type": "code",
   "execution_count": null,
   "metadata": {},
   "outputs": [],
   "source": [
    "import numpy as np\n",
    "import cv2"
   ]
  },
  {
   "cell_type": "code",
   "execution_count": null,
   "metadata": {},
   "outputs": [],
   "source": [
    "image = np.zeros((500, 500, 3), dtype=np.uint8)"
   ]
  },
  {
   "cell_type": "code",
   "execution_count": null,
   "metadata": {},
   "outputs": [],
   "source": [
    "image"
   ]
  },
  {
   "cell_type": "code",
   "execution_count": null,
   "metadata": {},
   "outputs": [],
   "source": [
    "image[:] = (255, 0, 0)"
   ]
  },
  {
   "cell_type": "code",
   "execution_count": null,
   "metadata": {},
   "outputs": [],
   "source": [
    "image"
   ]
  },
  {
   "cell_type": "code",
   "execution_count": null,
   "metadata": {},
   "outputs": [],
   "source": [
    "cv2.imshow(\"test\", image)\n",
    "cv2.waitKey(0)\n",
    "cv2.destroyAllWindows()"
   ]
  },
  {
   "cell_type": "code",
   "execution_count": null,
   "metadata": {},
   "outputs": [],
   "source": [
    "image[0, 0]"
   ]
  },
  {
   "cell_type": "code",
   "execution_count": null,
   "metadata": {},
   "outputs": [],
   "source": [
    "image[:, :, 0]"
   ]
  },
  {
   "cell_type": "markdown",
   "metadata": {},
   "source": [
    "## Create a RGBA image"
   ]
  },
  {
   "cell_type": "code",
   "execution_count": null,
   "metadata": {},
   "outputs": [],
   "source": [
    "from PIL import Image\n",
    "img = Image.new(\"RGB\", (500, 500), (255, 150, 0))\n",
    "img.show()"
   ]
  },
  {
   "cell_type": "code",
   "execution_count": null,
   "metadata": {},
   "outputs": [],
   "source": [
    "transparency_img = img.convert(\"RGBA\")"
   ]
  },
  {
   "cell_type": "code",
   "execution_count": null,
   "metadata": {},
   "outputs": [],
   "source": [
    "transparency_img.mode"
   ]
  },
  {
   "cell_type": "code",
   "execution_count": null,
   "metadata": {},
   "outputs": [],
   "source": [
    "transparency_img.size"
   ]
  },
  {
   "cell_type": "code",
   "execution_count": null,
   "metadata": {},
   "outputs": [],
   "source": [
    "transparency_img.getbands()"
   ]
  },
  {
   "cell_type": "code",
   "execution_count": null,
   "metadata": {},
   "outputs": [],
   "source": [
    "transparency_img.show()"
   ]
  },
  {
   "cell_type": "markdown",
   "metadata": {},
   "source": [
    "## Conversion of RGB to BGR channels\n"
   ]
  },
  {
   "cell_type": "code",
   "execution_count": 1,
   "metadata": {},
   "outputs": [
    {
     "ename": "NameError",
     "evalue": "name 'img' is not defined",
     "output_type": "error",
     "traceback": [
      "\u001b[1;31m---------------------------------------------------------------------------\u001b[0m",
      "\u001b[1;31mNameError\u001b[0m                                 Traceback (most recent call last)",
      "Cell \u001b[1;32mIn[1], line 2\u001b[0m\n\u001b[0;32m      1\u001b[0m \u001b[38;5;28;01mimport\u001b[39;00m \u001b[38;5;21;01mcv2\u001b[39;00m\n\u001b[1;32m----> 2\u001b[0m img_bgr \u001b[38;5;241m=\u001b[39m cv2\u001b[38;5;241m.\u001b[39mcvtColor(\u001b[43mimg\u001b[49m, cv2\u001b[38;5;241m.\u001b[39mCOLOR_RGB2BGR)\n",
      "\u001b[1;31mNameError\u001b[0m: name 'img' is not defined"
     ]
    }
   ],
   "source": [
    "import cv2\n",
    "img_bgr = cv2.cvtColor(img, cv2.COLOR_RGB2BGR)"
   ]
  },
  {
   "cell_type": "code",
   "execution_count": 2,
   "metadata": {},
   "outputs": [],
   "source": [
    "import numpy as np\n",
    "rgb_img = np.zeros((500, 500, 3), dtype=np.uint8)"
   ]
  },
  {
   "cell_type": "code",
   "execution_count": 3,
   "metadata": {},
   "outputs": [],
   "source": [
    "rgb_img[:] = (250, 0, 0)"
   ]
  },
  {
   "cell_type": "code",
   "execution_count": 4,
   "metadata": {},
   "outputs": [],
   "source": [
    "cv2.imshow(\"RGB image via cv2\", rgb_img)\n",
    "cv2.waitKey(0)\n",
    "cv2.destroyAllWindows()"
   ]
  },
  {
   "cell_type": "code",
   "execution_count": 5,
   "metadata": {},
   "outputs": [],
   "source": [
    "bgr = cv2.cvtColor(rgb_img, cv2.COLOR_RGB2BGR)\n",
    "cv2.imshow(\"BGR image via cv2\", bgr)\n",
    "cv2.waitKey(0)\n",
    "cv2.destroyAllWindows()"
   ]
  },
  {
   "cell_type": "code",
   "execution_count": 6,
   "metadata": {},
   "outputs": [],
   "source": [
    "bgr_transparency = cv2.cvtColor(bgr, cv2.COLOR_BGR2BGRA)"
   ]
  },
  {
   "cell_type": "code",
   "execution_count": 7,
   "metadata": {},
   "outputs": [
    {
     "data": {
      "text/plain": [
       "array([[255, 255, 255, ..., 255, 255, 255],\n",
       "       [255, 255, 255, ..., 255, 255, 255],\n",
       "       [255, 255, 255, ..., 255, 255, 255],\n",
       "       ...,\n",
       "       [255, 255, 255, ..., 255, 255, 255],\n",
       "       [255, 255, 255, ..., 255, 255, 255],\n",
       "       [255, 255, 255, ..., 255, 255, 255]], dtype=uint8)"
      ]
     },
     "execution_count": 7,
     "metadata": {},
     "output_type": "execute_result"
    }
   ],
   "source": [
    "bgr_transparency[:, :, 3]"
   ]
  },
  {
   "cell_type": "code",
   "execution_count": 8,
   "metadata": {},
   "outputs": [],
   "source": [
    "bgr_transparency[:, :, 3] = 125"
   ]
  },
  {
   "cell_type": "code",
   "execution_count": 9,
   "metadata": {},
   "outputs": [],
   "source": [
    "\n",
    "cv2.imshow(\"BGR image with transparency via cv2\", bgr_transparency)\n",
    "cv2.waitKey(0)\n",
    "cv2.destroyAllWindows()"
   ]
  },
  {
   "cell_type": "code",
   "execution_count": 10,
   "metadata": {},
   "outputs": [],
   "source": [
    "bgr_transparency[:, :, 3] = 0\n",
    "cv2.imshow(\"BGR image with transparency via cv2\", bgr_transparency)\n",
    "cv2.waitKey(0)\n",
    "cv2.destroyAllWindows()"
   ]
  },
  {
   "cell_type": "code",
   "execution_count": 11,
   "metadata": {},
   "outputs": [
    {
     "data": {
      "text/plain": [
       "array([  0,   0, 250,   0], dtype=uint8)"
      ]
     },
     "execution_count": 11,
     "metadata": {},
     "output_type": "execute_result"
    }
   ],
   "source": [
    "bgr_transparency[0, 0]"
   ]
  },
  {
   "cell_type": "code",
   "execution_count": 12,
   "metadata": {},
   "outputs": [],
   "source": [
    "rgb = np.zeros((100, 100, 4), np.uint8)"
   ]
  },
  {
   "cell_type": "code",
   "execution_count": 13,
   "metadata": {},
   "outputs": [],
   "source": [
    "rgb[:] = (255, 0, 0, 0)"
   ]
  },
  {
   "cell_type": "code",
   "execution_count": 14,
   "metadata": {},
   "outputs": [
    {
     "data": {
      "text/plain": [
       "array([255,   0,   0,   0], dtype=uint8)"
      ]
     },
     "execution_count": 14,
     "metadata": {},
     "output_type": "execute_result"
    }
   ],
   "source": [
    "rgb[0, 0]"
   ]
  },
  {
   "cell_type": "code",
   "execution_count": 15,
   "metadata": {},
   "outputs": [],
   "source": [
    "rgb[:, :, 3] = 255"
   ]
  },
  {
   "cell_type": "code",
   "execution_count": 16,
   "metadata": {},
   "outputs": [
    {
     "data": {
      "text/plain": [
       "array([255,   0,   0, 255], dtype=uint8)"
      ]
     },
     "execution_count": 16,
     "metadata": {},
     "output_type": "execute_result"
    }
   ],
   "source": [
    "rgb[0, 0]"
   ]
  },
  {
   "cell_type": "code",
   "execution_count": 17,
   "metadata": {},
   "outputs": [],
   "source": [
    "cv2.imshow(\"numpy array image\", rgb)\n",
    "cv2.waitKey(0)\n",
    "cv2.destroyAllWindows()"
   ]
  },
  {
   "cell_type": "code",
   "execution_count": 18,
   "metadata": {},
   "outputs": [
    {
     "data": {
      "text/plain": [
       "True"
      ]
     },
     "execution_count": 18,
     "metadata": {},
     "output_type": "execute_result"
    }
   ],
   "source": [
    "cv2.imwrite(\"./rgb_transparent.png\", rgb)"
   ]
  },
  {
   "cell_type": "code",
   "execution_count": 19,
   "metadata": {},
   "outputs": [
    {
     "data": {
      "text/plain": [
       "True"
      ]
     },
     "execution_count": 19,
     "metadata": {},
     "output_type": "execute_result"
    }
   ],
   "source": [
    "rgb[:, :, 3] = 0\n",
    "cv2.imwrite(\"./rgb_transparent_0.png\", rgb)"
   ]
  },
  {
   "cell_type": "markdown",
   "metadata": {},
   "source": [
    "## Reading images"
   ]
  },
  {
   "cell_type": "code",
   "execution_count": 20,
   "metadata": {},
   "outputs": [],
   "source": [
    "import os"
   ]
  },
  {
   "cell_type": "code",
   "execution_count": 21,
   "metadata": {},
   "outputs": [
    {
     "data": {
      "text/plain": [
       "367"
      ]
     },
     "execution_count": 21,
     "metadata": {},
     "output_type": "execute_result"
    }
   ],
   "source": [
    "os.path.getsize(\"rgb_transparent_0.png\")"
   ]
  },
  {
   "cell_type": "markdown",
   "metadata": {},
   "source": [
    "## Save images use PIL"
   ]
  },
  {
   "cell_type": "code",
   "execution_count": 29,
   "metadata": {},
   "outputs": [],
   "source": [
    "def get_img_size(img):\n",
    "    img_size = os.path.getsize(img) / 1024\n",
    "    print(f\"Image size if {round(img_size, 4)} KB\")"
   ]
  },
  {
   "cell_type": "code",
   "execution_count": 30,
   "metadata": {},
   "outputs": [
    {
     "data": {
      "text/plain": [
       "PIL.Image.Image"
      ]
     },
     "execution_count": 30,
     "metadata": {},
     "output_type": "execute_result"
    }
   ],
   "source": [
    "type(img)"
   ]
  },
  {
   "cell_type": "code",
   "execution_count": 31,
   "metadata": {},
   "outputs": [
    {
     "name": "stdout",
     "output_type": "stream",
     "text": [
      "Image size if 1.2764 KB\n",
      "Image size if 1.2734 KB\n",
      "Image size if 1.2744 KB\n"
     ]
    }
   ],
   "source": [
    "img.save(\"./temp/save_image_95.jpg\", quality=95)\n",
    "get_img_size(\"./temp/save_image_95.jpg\")\n",
    "\n",
    "img.save(\"./temp/save_image_10.jpg\", quality=10)\n",
    "get_img_size(\"./temp/save_image_50.jpg\")\n",
    "\n",
    "img.save(\"./temp/save_image_default.jpg\")\n",
    "get_img_size(\"./temp/save_image_default.jpg\")\n"
   ]
  },
  {
   "cell_type": "code",
   "execution_count": 37,
   "metadata": {},
   "outputs": [
    {
     "name": "stdout",
     "output_type": "stream",
     "text": [
      "Image size if 4.6162 KB\n",
      "Image size if 4.6133 KB\n",
      "Image size if 4.6113 KB\n",
      "Image size if 4.6162 KB\n",
      "\n",
      "\n",
      "\n",
      "\n",
      "Image size if 978.6885 KB\n",
      "Image size if 1.6465 KB\n",
      "Image size if 2.0928 KB\n"
     ]
    }
   ],
   "source": [
    "cv2.imwrite(\"./temp/cv2_bgr_image_100.jpeg\", bgr, [cv2.IMWRITE_JPEG_QUALITY, 100])\n",
    "get_img_size(\"./temp/cv2_bgr_image_100.jpeg\")\n",
    "\n",
    "cv2.imwrite(\"./temp/cv2_bgr_image_50.jpeg\", bgr, [cv2.IMWRITE_JPEG_QUALITY, 50])\n",
    "get_img_size(\"./temp/cv2_bgr_image_50.jpeg\")\n",
    "\n",
    "cv2.imwrite(\"./temp/cv2_bgr_image_0.jpeg\", bgr, [cv2.IMWRITE_JPEG_QUALITY, 0])\n",
    "get_img_size(\"./temp/cv2_bgr_image_0.jpeg\")\n",
    "\n",
    "cv2.imwrite(\"./temp/cv2_bgr_image.jpeg\", bgr)\n",
    "get_img_size(\"./temp/cv2_bgr_image.jpeg\")\n",
    "\n",
    "\n",
    "print(\"\\n\\n\\n\")\n",
    "cv2.imwrite(\"./temp/cv2_bgr_image_0.png\", bgr_transparency, [cv2.IMWRITE_PNG_COMPRESSION, 0])\n",
    "get_img_size(\"./temp/cv2_bgr_image_0.png\")\n",
    "\n",
    "\n",
    "cv2.imwrite(\"./temp/cv2_bgr_image_9.png\", bgr_transparency, [cv2.IMWRITE_PNG_COMPRESSION, 9])\n",
    "get_img_size(\"./temp/cv2_bgr_image_9.png\")\n",
    "\n",
    "cv2.imwrite(\"./temp/cv2_bgr_image_def.png\", bgr_transparency)\n",
    "get_img_size(\"./temp/cv2_bgr_image_def.png\")\n",
    "\n",
    "\n"
   ]
  },
  {
   "cell_type": "markdown",
   "metadata": {},
   "source": [
    "## Read image"
   ]
  },
  {
   "cell_type": "code",
   "execution_count": null,
   "metadata": {},
   "outputs": [],
   "source": [
    "a_img = cv2.imread(r\"D:\\Learning\\CV\\Krishnaik_live\\temp\\cv2_bgr_image_0.jpeg\")\n",
    "cv2.imshow(\"reading Image\", a_img)\n",
    "cv2.waitKey(0)\n",
    "cv2.destroyAllWindows()"
   ]
  },
  {
   "cell_type": "code",
   "execution_count": 40,
   "metadata": {},
   "outputs": [
    {
     "data": {
      "text/plain": [
       "(500, 500, 3)"
      ]
     },
     "execution_count": 40,
     "metadata": {},
     "output_type": "execute_result"
    }
   ],
   "source": [
    "a_img.shape"
   ]
  },
  {
   "cell_type": "code",
   "execution_count": null,
   "metadata": {},
   "outputs": [
    {
     "ename": "error",
     "evalue": "OpenCV(4.10.0) :-1: error: (-5:Bad argument) in function 'imshow'\n> Overload resolution failed:\n>  - imshow() takes at most 2 arguments (3 given)\n>  - imshow() takes at most 2 arguments (3 given)\n>  - imshow() takes at most 2 arguments (3 given)\n",
     "output_type": "error",
     "traceback": [
      "\u001b[1;31m---------------------------------------------------------------------------\u001b[0m",
      "\u001b[1;31merror\u001b[0m                                     Traceback (most recent call last)",
      "Cell \u001b[1;32mIn[43], line 2\u001b[0m\n\u001b[0;32m      1\u001b[0m a_img \u001b[38;5;241m=\u001b[39m cv2\u001b[38;5;241m.\u001b[39mimread(\u001b[38;5;124mr\u001b[39m\u001b[38;5;124m\"\u001b[39m\u001b[38;5;124mD:\u001b[39m\u001b[38;5;124m\\\u001b[39m\u001b[38;5;124mLearning\u001b[39m\u001b[38;5;124m\\\u001b[39m\u001b[38;5;124mCV\u001b[39m\u001b[38;5;124m\\\u001b[39m\u001b[38;5;124mKrishnaik_live\u001b[39m\u001b[38;5;124m\\\u001b[39m\u001b[38;5;124mtemp\u001b[39m\u001b[38;5;124m\\\u001b[39m\u001b[38;5;124mcv2_bgr_image_0.png\u001b[39m\u001b[38;5;124m\"\u001b[39m)\n\u001b[1;32m----> 2\u001b[0m \u001b[43mcv2\u001b[49m\u001b[38;5;241;43m.\u001b[39;49m\u001b[43mimshow\u001b[49m\u001b[43m(\u001b[49m\u001b[38;5;124;43m\"\u001b[39;49m\u001b[38;5;124;43mreading PNG Image\u001b[39;49m\u001b[38;5;124;43m\"\u001b[39;49m\u001b[43m,\u001b[49m\u001b[43m \u001b[49m\u001b[43ma_img\u001b[49m\u001b[43m,\u001b[49m\u001b[43m \u001b[49m\u001b[38;5;241;43m-\u001b[39;49m\u001b[38;5;241;43m1\u001b[39;49m\u001b[43m)\u001b[49m\n\u001b[0;32m      3\u001b[0m cv2\u001b[38;5;241m.\u001b[39mwaitKey(\u001b[38;5;241m0\u001b[39m)\n\u001b[0;32m      4\u001b[0m cv2\u001b[38;5;241m.\u001b[39mdestroyAllWindows()\n",
      "\u001b[1;31merror\u001b[0m: OpenCV(4.10.0) :-1: error: (-5:Bad argument) in function 'imshow'\n> Overload resolution failed:\n>  - imshow() takes at most 2 arguments (3 given)\n>  - imshow() takes at most 2 arguments (3 given)\n>  - imshow() takes at most 2 arguments (3 given)\n"
     ]
    }
   ],
   "source": [
    "a_img = cv2.imread(r\"D:\\Learning\\CV\\Krishnaik_live\\temp\\cv2_bgr_image_0.png\")\n",
    "cv2.imshow(\"reading PNG Image\", a_img)\n",
    "cv2.waitKey(0)\n",
    "cv2.destroyAllWindows()\n",
    "a_img.shape"
   ]
  },
  {
   "cell_type": "code",
   "execution_count": 42,
   "metadata": {},
   "outputs": [
    {
     "data": {
      "text/plain": [
       "(500, 500, 3)"
      ]
     },
     "execution_count": 42,
     "metadata": {},
     "output_type": "execute_result"
    }
   ],
   "source": [
    "a_img.shape"
   ]
  },
  {
   "cell_type": "code",
   "execution_count": null,
   "metadata": {},
   "outputs": [
    {
     "data": {
      "text/plain": [
       "<matplotlib.image.AxesImage at 0x142427fdc90>"
      ]
     },
     "execution_count": 44,
     "metadata": {},
     "output_type": "execute_result"
    },
    {
     "data": {
      "image/png": "[encoded data removed]",
      "text/plain": [
       "<Figure size 640x480 with 1 Axes>"
      ]
     },
     "metadata": {},
     "output_type": "display_data"
    }
   ],
   "source": [
    "import matplotlib.image as mpimg\n",
    "import matplotlib.pyplot as plt\n",
    "\n",
    "img=mpimg.imread(r\"D:\\Learning\\CV\\Krishnaik_live\\temp\\cv2_bgr_image_0.png\")\n",
    "plt.imshow(img)"
   ]
  },
  {
   "cell_type": "code",
   "execution_count": null,
   "metadata": {},
   "outputs": [
    {
     "ename": "TypeError",
     "evalue": "'tuple' object is not callable",
     "output_type": "error",
     "traceback": [
      "\u001b[1;31m---------------------------------------------------------------------------\u001b[0m",
      "\u001b[1;31mTypeError\u001b[0m                                 Traceback (most recent call last)",
      "Cell \u001b[1;32mIn[45], line 4\u001b[0m\n\u001b[0;32m      2\u001b[0m cv2\u001b[38;5;241m.\u001b[39mwaitKey(\u001b[38;5;241m0\u001b[39m)\n\u001b[0;32m      3\u001b[0m cv2\u001b[38;5;241m.\u001b[39mdestroyAllWindows()\n\u001b[1;32m----> 4\u001b[0m \u001b[43mimg\u001b[49m\u001b[38;5;241;43m.\u001b[39;49m\u001b[43mshape\u001b[49m\u001b[43m(\u001b[49m\u001b[43m)\u001b[49m\n",
      "\u001b[1;31mTypeError\u001b[0m: 'tuple' object is not callable"
     ]
    }
   ],
   "source": [
    "cv2.imshow(\"reading PNG Image\", img)\n",
    "cv2.waitKey(0)\n",
    "cv2.destroyAllWindows()\n",
    "img"
   ]
  },
  {
   "cell_type": "code",
   "execution_count": 47,
   "metadata": {},
   "outputs": [
    {
     "data": {
      "text/plain": [
       "numpy.ndarray"
      ]
     },
     "execution_count": 47,
     "metadata": {},
     "output_type": "execute_result"
    }
   ],
   "source": [
    "type(img)"
   ]
  },
  {
   "cell_type": "code",
   "execution_count": 48,
   "metadata": {},
   "outputs": [
    {
     "data": {
      "text/plain": [
       "(500, 500, 4)"
      ]
     },
     "execution_count": 48,
     "metadata": {},
     "output_type": "execute_result"
    }
   ],
   "source": [
    "img.shape"
   ]
  },
  {
   "cell_type": "markdown",
   "metadata": {},
   "source": [
    "### Metadata of image --> EXif"
   ]
  },
  {
   "cell_type": "code",
   "execution_count": 51,
   "metadata": {},
   "outputs": [],
   "source": [
    "from PIL import Image, ExifTags\n",
    "\n",
    "img = Image.open(r\"D:\\Learning\\CV\\Krishnaik_live\\class_notes\\Day-1\\data\\GP_PXL_20240926_003004774.jpg\")\n",
    "exif_details = img._getexif()"
   ]
  },
  {
   "cell_type": "code",
   "execution_count": 54,
   "metadata": {},
   "outputs": [
    {
     "data": {
      "text/plain": [
       "{256: 2268,\n",
       " 257: 4032,\n",
       " 34853: {16: 'M', 17: 268.0},\n",
       " 296: 2,\n",
       " 34665: 244,\n",
       " 271: 'Google',\n",
       " 272: 'Pixel 4a',\n",
       " 305: 'HDR+ 1.0.540104767zdr',\n",
       " 274: 1,\n",
       " 306: '2024:09:26 06:00:04',\n",
       " 531: 1,\n",
       " 282: 72.0,\n",
       " 283: 72.0,\n",
       " 36864: b'0232',\n",
       " 37121: b'\\x01\\x02\\x03\\x00',\n",
       " 37377: 6.64,\n",
       " 36867: '2024:09:26 06:00:04',\n",
       " 36868: '2024:09:26 06:00:04',\n",
       " 37378: 1.58,\n",
       " 37379: 2.35,\n",
       " 37380: 0.0,\n",
       " 37381: 1.58,\n",
       " 37382: 4294967295.0,\n",
       " 37383: 2,\n",
       " 37385: 16,\n",
       " 37386: 4.38,\n",
       " 40961: 1,\n",
       " 40962: 2268,\n",
       " 41990: 0,\n",
       " 36880: '+05:30',\n",
       " 36881: '+05:30',\n",
       " 36882: '+05:30',\n",
       " 37520: '774',\n",
       " 37521: '774',\n",
       " 37522: '774',\n",
       " 40963: 4032,\n",
       " 41495: 2,\n",
       " 33434: 0.010013,\n",
       " 40965: 949,\n",
       " 33437: 1.73,\n",
       " 41729: b'\\x01',\n",
       " 34850: 2,\n",
       " 41985: 1,\n",
       " 34855: 183,\n",
       " 41986: 0,\n",
       " 40960: b'0100',\n",
       " 41987: 0,\n",
       " 42035: 'Google',\n",
       " 42036: 'Pixel 4a back camera 4.38mm f/1.73',\n",
       " 41988: 0.0,\n",
       " 41989: 27,\n",
       " 41992: 0,\n",
       " 41993: 0,\n",
       " 41994: 0,\n",
       " 41996: 3,\n",
       " 42080: 3}"
      ]
     },
     "execution_count": 54,
     "metadata": {},
     "output_type": "execute_result"
    }
   ],
   "source": [
    "img._getexif()"
   ]
  },
  {
   "cell_type": "code",
   "execution_count": 53,
   "metadata": {},
   "outputs": [
    {
     "data": {
      "text/plain": [
       "{1: 'InteropIndex',\n",
       " 11: 'ProcessingSoftware',\n",
       " 254: 'NewSubfileType',\n",
       " 255: 'SubfileType',\n",
       " 256: 'ImageWidth',\n",
       " 257: 'ImageLength',\n",
       " 258: 'BitsPerSample',\n",
       " 259: 'Compression',\n",
       " 262: 'PhotometricInterpretation',\n",
       " 263: 'Thresholding',\n",
       " 264: 'CellWidth',\n",
       " 265: 'CellLength',\n",
       " 266: 'FillOrder',\n",
       " 269: 'DocumentName',\n",
       " 270: 'ImageDescription',\n",
       " 271: 'Make',\n",
       " 272: 'Model',\n",
       " 273: 'StripOffsets',\n",
       " 274: 'Orientation',\n",
       " 277: 'SamplesPerPixel',\n",
       " 278: 'RowsPerStrip',\n",
       " 279: 'StripByteCounts',\n",
       " 280: 'MinSampleValue',\n",
       " 281: 'MaxSampleValue',\n",
       " 282: 'XResolution',\n",
       " 283: 'YResolution',\n",
       " 284: 'PlanarConfiguration',\n",
       " 285: 'PageName',\n",
       " 288: 'FreeOffsets',\n",
       " 289: 'FreeByteCounts',\n",
       " 290: 'GrayResponseUnit',\n",
       " 291: 'GrayResponseCurve',\n",
       " 292: 'T4Options',\n",
       " 293: 'T6Options',\n",
       " 296: 'ResolutionUnit',\n",
       " 297: 'PageNumber',\n",
       " 301: 'TransferFunction',\n",
       " 305: 'Software',\n",
       " 306: 'DateTime',\n",
       " 315: 'Artist',\n",
       " 316: 'HostComputer',\n",
       " 317: 'Predictor',\n",
       " 318: 'WhitePoint',\n",
       " 319: 'PrimaryChromaticities',\n",
       " 320: 'ColorMap',\n",
       " 321: 'HalftoneHints',\n",
       " 322: 'TileWidth',\n",
       " 323: 'TileLength',\n",
       " 324: 'TileOffsets',\n",
       " 325: 'TileByteCounts',\n",
       " 330: 'SubIFDs',\n",
       " 332: 'InkSet',\n",
       " 333: 'InkNames',\n",
       " 334: 'NumberOfInks',\n",
       " 336: 'DotRange',\n",
       " 337: 'TargetPrinter',\n",
       " 338: 'ExtraSamples',\n",
       " 339: 'SampleFormat',\n",
       " 340: 'SMinSampleValue',\n",
       " 341: 'SMaxSampleValue',\n",
       " 342: 'TransferRange',\n",
       " 343: 'ClipPath',\n",
       " 344: 'XClipPathUnits',\n",
       " 345: 'YClipPathUnits',\n",
       " 346: 'Indexed',\n",
       " 347: 'JPEGTables',\n",
       " 351: 'OPIProxy',\n",
       " 512: 'JPEGProc',\n",
       " 513: 'JpegIFOffset',\n",
       " 514: 'JpegIFByteCount',\n",
       " 515: 'JpegRestartInterval',\n",
       " 517: 'JpegLosslessPredictors',\n",
       " 518: 'JpegPointTransforms',\n",
       " 519: 'JpegQTables',\n",
       " 520: 'JpegDCTables',\n",
       " 521: 'JpegACTables',\n",
       " 529: 'YCbCrCoefficients',\n",
       " 530: 'YCbCrSubSampling',\n",
       " 531: 'YCbCrPositioning',\n",
       " 532: 'ReferenceBlackWhite',\n",
       " 700: 'XMLPacket',\n",
       " 4096: 'RelatedImageFileFormat',\n",
       " 4097: 'RelatedImageWidth',\n",
       " 4098: 'RelatedImageLength',\n",
       " 18246: 'Rating',\n",
       " 18249: 'RatingPercent',\n",
       " 32781: 'ImageID',\n",
       " 33421: 'CFARepeatPatternDim',\n",
       " 33423: 'BatteryLevel',\n",
       " 33432: 'Copyright',\n",
       " 33434: 'ExposureTime',\n",
       " 33437: 'FNumber',\n",
       " 33723: 'IPTCNAA',\n",
       " 34377: 'ImageResources',\n",
       " 34665: 'ExifOffset',\n",
       " 34675: 'InterColorProfile',\n",
       " 34850: 'ExposureProgram',\n",
       " 34852: 'SpectralSensitivity',\n",
       " 34853: 'GPSInfo',\n",
       " 34855: 'ISOSpeedRatings',\n",
       " 34856: 'OECF',\n",
       " 34857: 'Interlace',\n",
       " 34858: 'TimeZoneOffset',\n",
       " 34859: 'SelfTimerMode',\n",
       " 34864: 'SensitivityType',\n",
       " 34865: 'StandardOutputSensitivity',\n",
       " 34866: 'RecommendedExposureIndex',\n",
       " 34867: 'ISOSpeed',\n",
       " 34868: 'ISOSpeedLatitudeyyy',\n",
       " 34869: 'ISOSpeedLatitudezzz',\n",
       " 36864: 'ExifVersion',\n",
       " 36867: 'DateTimeOriginal',\n",
       " 36868: 'DateTimeDigitized',\n",
       " 36880: 'OffsetTime',\n",
       " 36881: 'OffsetTimeOriginal',\n",
       " 36882: 'OffsetTimeDigitized',\n",
       " 37121: 'ComponentsConfiguration',\n",
       " 37122: 'CompressedBitsPerPixel',\n",
       " 37377: 'ShutterSpeedValue',\n",
       " 37378: 'ApertureValue',\n",
       " 37379: 'BrightnessValue',\n",
       " 37380: 'ExposureBiasValue',\n",
       " 37381: 'MaxApertureValue',\n",
       " 37382: 'SubjectDistance',\n",
       " 37383: 'MeteringMode',\n",
       " 37384: 'LightSource',\n",
       " 37385: 'Flash',\n",
       " 37386: 'FocalLength',\n",
       " 37389: 'Noise',\n",
       " 37393: 'ImageNumber',\n",
       " 37394: 'SecurityClassification',\n",
       " 37395: 'ImageHistory',\n",
       " 37398: 'TIFF/EPStandardID',\n",
       " 37500: 'MakerNote',\n",
       " 37510: 'UserComment',\n",
       " 37520: 'SubsecTime',\n",
       " 37521: 'SubsecTimeOriginal',\n",
       " 37522: 'SubsecTimeDigitized',\n",
       " 37888: 'AmbientTemperature',\n",
       " 37889: 'Humidity',\n",
       " 37890: 'Pressure',\n",
       " 37891: 'WaterDepth',\n",
       " 37892: 'Acceleration',\n",
       " 37893: 'CameraElevationAngle',\n",
       " 40091: 'XPTitle',\n",
       " 40092: 'XPComment',\n",
       " 40093: 'XPAuthor',\n",
       " 40094: 'XPKeywords',\n",
       " 40095: 'XPSubject',\n",
       " 40960: 'FlashPixVersion',\n",
       " 40961: 'ColorSpace',\n",
       " 40962: 'ExifImageWidth',\n",
       " 40963: 'ExifImageHeight',\n",
       " 40964: 'RelatedSoundFile',\n",
       " 40965: 'ExifInteroperabilityOffset',\n",
       " 41483: 'FlashEnergy',\n",
       " 41484: 'SpatialFrequencyResponse',\n",
       " 41486: 'FocalPlaneXResolution',\n",
       " 41487: 'FocalPlaneYResolution',\n",
       " 41488: 'FocalPlaneResolutionUnit',\n",
       " 41492: 'SubjectLocation',\n",
       " 41493: 'ExposureIndex',\n",
       " 41495: 'SensingMethod',\n",
       " 41728: 'FileSource',\n",
       " 41729: 'SceneType',\n",
       " 41730: 'CFAPattern',\n",
       " 41985: 'CustomRendered',\n",
       " 41986: 'ExposureMode',\n",
       " 41987: 'WhiteBalance',\n",
       " 41988: 'DigitalZoomRatio',\n",
       " 41989: 'FocalLengthIn35mmFilm',\n",
       " 41990: 'SceneCaptureType',\n",
       " 41991: 'GainControl',\n",
       " 41992: 'Contrast',\n",
       " 41993: 'Saturation',\n",
       " 41994: 'Sharpness',\n",
       " 41995: 'DeviceSettingDescription',\n",
       " 41996: 'SubjectDistanceRange',\n",
       " 42016: 'ImageUniqueID',\n",
       " 42032: 'CameraOwnerName',\n",
       " 42033: 'BodySerialNumber',\n",
       " 42034: 'LensSpecification',\n",
       " 42035: 'LensMake',\n",
       " 42036: 'LensModel',\n",
       " 42037: 'LensSerialNumber',\n",
       " 42080: 'CompositeImage',\n",
       " 42081: 'CompositeImageCount',\n",
       " 42082: 'CompositeImageExposureTimes',\n",
       " 42240: 'Gamma',\n",
       " 50341: 'PrintImageMatching',\n",
       " 50706: 'DNGVersion',\n",
       " 50707: 'DNGBackwardVersion',\n",
       " 50708: 'UniqueCameraModel',\n",
       " 50709: 'LocalizedCameraModel',\n",
       " 50710: 'CFAPlaneColor',\n",
       " 50711: 'CFALayout',\n",
       " 50712: 'LinearizationTable',\n",
       " 50713: 'BlackLevelRepeatDim',\n",
       " 50714: 'BlackLevel',\n",
       " 50715: 'BlackLevelDeltaH',\n",
       " 50716: 'BlackLevelDeltaV',\n",
       " 50717: 'WhiteLevel',\n",
       " 50718: 'DefaultScale',\n",
       " 50719: 'DefaultCropOrigin',\n",
       " 50720: 'DefaultCropSize',\n",
       " 50721: 'ColorMatrix1',\n",
       " 50722: 'ColorMatrix2',\n",
       " 50723: 'CameraCalibration1',\n",
       " 50724: 'CameraCalibration2',\n",
       " 50725: 'ReductionMatrix1',\n",
       " 50726: 'ReductionMatrix2',\n",
       " 50727: 'AnalogBalance',\n",
       " 50728: 'AsShotNeutral',\n",
       " 50729: 'AsShotWhiteXY',\n",
       " 50730: 'BaselineExposure',\n",
       " 50731: 'BaselineNoise',\n",
       " 50732: 'BaselineSharpness',\n",
       " 50733: 'BayerGreenSplit',\n",
       " 50734: 'LinearResponseLimit',\n",
       " 50735: 'CameraSerialNumber',\n",
       " 50736: 'LensInfo',\n",
       " 50737: 'ChromaBlurRadius',\n",
       " 50738: 'AntiAliasStrength',\n",
       " 50739: 'ShadowScale',\n",
       " 50740: 'DNGPrivateData',\n",
       " 50741: 'MakerNoteSafety',\n",
       " 50778: 'CalibrationIlluminant1',\n",
       " 50779: 'CalibrationIlluminant2',\n",
       " 50780: 'BestQualityScale',\n",
       " 50781: 'RawDataUniqueID',\n",
       " 50827: 'OriginalRawFileName',\n",
       " 50828: 'OriginalRawFileData',\n",
       " 50829: 'ActiveArea',\n",
       " 50830: 'MaskedAreas',\n",
       " 50831: 'AsShotICCProfile',\n",
       " 50832: 'AsShotPreProfileMatrix',\n",
       " 50833: 'CurrentICCProfile',\n",
       " 50834: 'CurrentPreProfileMatrix',\n",
       " 50879: 'ColorimetricReference',\n",
       " 50931: 'CameraCalibrationSignature',\n",
       " 50932: 'ProfileCalibrationSignature',\n",
       " 50934: 'AsShotProfileName',\n",
       " 50935: 'NoiseReductionApplied',\n",
       " 50936: 'ProfileName',\n",
       " 50937: 'ProfileHueSatMapDims',\n",
       " 50938: 'ProfileHueSatMapData1',\n",
       " 50939: 'ProfileHueSatMapData2',\n",
       " 50940: 'ProfileToneCurve',\n",
       " 50941: 'ProfileEmbedPolicy',\n",
       " 50942: 'ProfileCopyright',\n",
       " 50964: 'ForwardMatrix1',\n",
       " 50965: 'ForwardMatrix2',\n",
       " 50966: 'PreviewApplicationName',\n",
       " 50967: 'PreviewApplicationVersion',\n",
       " 50968: 'PreviewSettingsName',\n",
       " 50969: 'PreviewSettingsDigest',\n",
       " 50970: 'PreviewColorSpace',\n",
       " 50971: 'PreviewDateTime',\n",
       " 50972: 'RawImageDigest',\n",
       " 50973: 'OriginalRawFileDigest',\n",
       " 50974: 'SubTileBlockSize',\n",
       " 50975: 'RowInterleaveFactor',\n",
       " 50981: 'ProfileLookTableDims',\n",
       " 50982: 'ProfileLookTableData',\n",
       " 51008: 'OpcodeList1',\n",
       " 51009: 'OpcodeList2',\n",
       " 51022: 'OpcodeList3',\n",
       " 51041: 'NoiseProfile',\n",
       " 37388: 'SpatialFrequencyResponse',\n",
       " 37396: 'SubjectLocation',\n",
       " 37397: 'ExposureIndex',\n",
       " 33422: 'CFAPattern',\n",
       " 37387: 'FlashEnergy'}"
      ]
     },
     "execution_count": 53,
     "metadata": {},
     "output_type": "execute_result"
    }
   ],
   "source": [
    "ExifTags.TAGS"
   ]
  },
  {
   "cell_type": "code",
   "execution_count": 55,
   "metadata": {},
   "outputs": [
    {
     "name": "stdout",
     "output_type": "stream",
     "text": [
      "ImageWidth - 2268\n",
      "ImageLength - 4032\n",
      "GPSInfo - {16: 'M', 17: 268.0}\n",
      "ResolutionUnit - 2\n",
      "ExifOffset - 244\n",
      "Make - Google\n",
      "Model - Pixel 4a\n",
      "Software - HDR+ 1.0.540104767zdr\n",
      "Orientation - 1\n",
      "DateTime - 2024:09:26 06:00:04\n",
      "YCbCrPositioning - 1\n",
      "XResolution - 72.0\n",
      "YResolution - 72.0\n",
      "ExifVersion - b'0232'\n",
      "ComponentsConfiguration - b'\\x01\\x02\\x03\\x00'\n",
      "ShutterSpeedValue - 6.64\n",
      "DateTimeOriginal - 2024:09:26 06:00:04\n",
      "DateTimeDigitized - 2024:09:26 06:00:04\n",
      "ApertureValue - 1.58\n",
      "BrightnessValue - 2.35\n",
      "ExposureBiasValue - 0.0\n",
      "MaxApertureValue - 1.58\n",
      "SubjectDistance - 4294967295.0\n",
      "MeteringMode - 2\n",
      "Flash - 16\n",
      "FocalLength - 4.38\n",
      "ColorSpace - 1\n",
      "ExifImageWidth - 2268\n",
      "SceneCaptureType - 0\n",
      "OffsetTime - +05:30\n",
      "OffsetTimeOriginal - +05:30\n",
      "OffsetTimeDigitized - +05:30\n",
      "SubsecTime - 774\n",
      "SubsecTimeOriginal - 774\n",
      "SubsecTimeDigitized - 774\n",
      "ExifImageHeight - 4032\n",
      "SensingMethod - 2\n",
      "ExposureTime - 0.010013\n",
      "ExifInteroperabilityOffset - 949\n",
      "FNumber - 1.73\n",
      "SceneType - b'\\x01'\n",
      "ExposureProgram - 2\n",
      "CustomRendered - 1\n",
      "ISOSpeedRatings - 183\n",
      "ExposureMode - 0\n",
      "FlashPixVersion - b'0100'\n",
      "WhiteBalance - 0\n",
      "LensMake - Google\n",
      "LensModel - Pixel 4a back camera 4.38mm f/1.73\n",
      "DigitalZoomRatio - 0.0\n",
      "FocalLengthIn35mmFilm - 27\n",
      "Contrast - 0\n",
      "Saturation - 0\n",
      "Sharpness - 0\n",
      "SubjectDistanceRange - 3\n",
      "CompositeImage - 3\n"
     ]
    }
   ],
   "source": [
    "for tag, value in exif_details.items():\n",
    "    tag_name = ExifTags.TAGS.get(tag, tag)\n",
    "    print(f\"{tag_name} - {value}\")"
   ]
  },
  {
   "cell_type": "code",
   "execution_count": 61,
   "metadata": {},
   "outputs": [
    {
     "data": {
      "text/plain": [
       "{'0th': {274: 1},\n",
       " 'Exif': {},\n",
       " 'GPS': {},\n",
       " 'Interop': {},\n",
       " '1st': {},\n",
       " 'thumbnail': None}"
      ]
     },
     "execution_count": 61,
     "metadata": {},
     "output_type": "execute_result"
    }
   ],
   "source": [
    "import piexif\n",
    "img = Image.open(r\"D:\\Learning\\CV\\Krishnaik_live\\class_notes\\Day-1\\data\\beach-blue.jpg\")\n",
    "exif_dict = piexif.load(img.info.get(\"exif\", b''))\n",
    "exif_dict\n"
   ]
  },
  {
   "cell_type": "code",
   "execution_count": 62,
   "metadata": {},
   "outputs": [
    {
     "data": {
      "text/plain": [
       "{274: 1}"
      ]
     },
     "execution_count": 62,
     "metadata": {},
     "output_type": "execute_result"
    }
   ],
   "source": [
    "exif_dict[\"0th\"]"
   ]
  },
  {
   "cell_type": "code",
   "execution_count": 63,
   "metadata": {},
   "outputs": [],
   "source": [
    "exif_dict[\"0th\"][piexif.ImageIFD.Orientation] = 5"
   ]
  },
  {
   "cell_type": "code",
   "execution_count": 64,
   "metadata": {},
   "outputs": [
    {
     "data": {
      "text/plain": [
       "{274: 5}"
      ]
     },
     "execution_count": 64,
     "metadata": {},
     "output_type": "execute_result"
    }
   ],
   "source": [
    "\n",
    "exif_dict[\"0th\"]"
   ]
  },
  {
   "cell_type": "code",
   "execution_count": 65,
   "metadata": {},
   "outputs": [],
   "source": [
    "\n",
    "\n",
    "exif_bytes = piexif.dump(exif_dict)\n",
    "img.save(r\"D:\\Learning\\CV\\Krishnaik_live\\class_notes\\Day-1\\data\\beach-blue_orient.jpg\", exif=exif_bytes)"
   ]
  },
  {
   "cell_type": "code",
   "execution_count": 1,
   "metadata": {},
   "outputs": [],
   "source": [
    "import cv2\n",
    "image = cv2.imread(r\"D:\\Learning\\CV\\Krishnaik_live\\class_notes\\Day-1\\data\\GP_PXL_20240926_003004774.jpg\")\n",
    "cv2.imshow(\"Image\", image)\n",
    "cv2.waitKey(0)\n",
    "cv2.destroyAllWindows()"
   ]
  },
  {
   "cell_type": "code",
   "execution_count": 4,
   "metadata": {},
   "outputs": [],
   "source": [
    "gray_scale = cv2.cvtColor(image, cv2.COLOR_BGR2GRAY)\n",
    "gray_scale.shape\n",
    "cv2.imshow(\"gray_scale\", gray_scale)\n",
    "cv2.waitKey(0)\n",
    "cv2.destroyAllWindows()"
   ]
  },
  {
   "cell_type": "code",
   "execution_count": 7,
   "metadata": {},
   "outputs": [],
   "source": [
    "bgr_gray_scale = cv2.cvtColor(gray_scale, cv2.COLOR_GRAY2BGR)\n",
    "bgr_gray_scale.shape\n",
    "cv2.imshow(\"bgr_gray_scale\", bgr_gray_scale)\n",
    "cv2.waitKey(0)\n",
    "cv2.destroyAllWindows()"
   ]
  },
  {
   "cell_type": "code",
   "execution_count": 6,
   "metadata": {},
   "outputs": [
    {
     "data": {
      "text/plain": [
       "array([138, 138, 138], dtype=uint8)"
      ]
     },
     "execution_count": 6,
     "metadata": {},
     "output_type": "execute_result"
    }
   ],
   "source": [
    "bgr_gray_scale[0, 0]"
   ]
  },
  {
   "cell_type": "code",
   "execution_count": null,
   "metadata": {},
   "outputs": [],
   "source": []
  }
 ],
 "metadata": {
  "kernelspec": {
   "display_name": "CV_krish",
   "language": "python",
   "name": "python3"
  },
  "language_info": {
   "codemirror_mode": {
    "name": "ipython",
    "version": 3
   },
   "file_extension": ".py",
   "mimetype": "text/x-python",
   "name": "python",
   "nbconvert_exporter": "python",
   "pygments_lexer": "ipython3",
   "version": "3.11.10"
  }
 },
 "nbformat": 4,
 "nbformat_minor": 2
}
